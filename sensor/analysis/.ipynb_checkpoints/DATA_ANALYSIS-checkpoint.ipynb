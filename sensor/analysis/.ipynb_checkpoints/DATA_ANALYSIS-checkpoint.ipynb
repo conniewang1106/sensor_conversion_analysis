{
 "cells": [
  {
   "cell_type": "markdown",
   "metadata": {},
   "source": [
    "## The Structure of Project:\n",
    "1. Develop Basic Understanding\n",
    "2. Data Processing\n",
    "3. EDA\n",
    "4. Model & Inference\n",
    "5. Further Feature Engineering & Model\n",
    "6. Finding & Summary"
   ]
  },
  {
   "cell_type": "markdown",
   "metadata": {},
   "source": [
    "### Finding & Recommendation "
   ]
  },
  {
   "cell_type": "markdown",
   "metadata": {},
   "source": [
    "**Findings:**\n",
    "1. Compare to user activity information, the Effect of Reference Source, Mobile, Browser is pretty minimal\n",
    "2. Most of users who converted spend reasonable time between pages 8 - 20 seconds per page\n",
    "3. People who viewed demo page are more likely to be converted\n",
    "4. Almost 50% people who converted, directly clicked the request button for demo request on the landing page without exploring other pages.\n",
    "5. The lifetime for most converted users is around 2 minutes.\n",
    "6. Around 100+ churn users has very low value in effective btn click feature.\n",
    "\n",
    "\n",
    "**Recommendations:**\n",
    "1. We may need to find a better way to do the marketing strategies. From the finding, **we did not see difference among marketing campaign in terms of conversion performance**. The likehood of conversion is highly depend on users' interaction with the website.\n",
    "2. Optimize the content of the web page. Control the reading time in **8 - 20 seconds** per page range.\n",
    "3. **Made the demo page button standout** in the landing page so that user are more likely to view the demo page because people who virewed the demo page are more likely to convert.\n",
    "4. 50% of converted users submit demo request directly from the landing page. This means that landing page is attractive enough for user to click the convert button. However, a considerable amount of users who did not request demo on the landing page. This might due to the fact that they need more information about the product. Therefore, we still need to **optimize other pages to provide additional information**.\n",
    "5. We need to made our **website easier to interact and faster to response**.\n",
    "6. low value in effective btn click feature indicates that these users are **experiencing response lantancy** from the website. So we need to do some adjsutment on the server sides to optimize user experience."
   ]
  },
  {
   "cell_type": "code",
   "execution_count": 1,
   "metadata": {
    "scrolled": true
   },
   "outputs": [],
   "source": [
    "import pandas as pd\n",
    "import numpy as np\n",
    "import matplotlib.pyplot as plt\n",
    "%matplotlib inline\n",
    "import json\n",
    "import re"
   ]
  },
  {
   "cell_type": "code",
   "execution_count": 2,
   "metadata": {},
   "outputs": [],
   "source": [
    "with open('../data/sensorswww_data.txt', 'rb') as f:\n",
    "    df = pd.DataFrame([json.loads(line) for line in f])"
   ]
  },
  {
   "cell_type": "code",
   "execution_count": 3,
   "metadata": {
    "scrolled": false
   },
   "outputs": [
    {
     "data": {
      "text/html": [
       "<div>\n",
       "<style scoped>\n",
       "    .dataframe tbody tr th:only-of-type {\n",
       "        vertical-align: middle;\n",
       "    }\n",
       "\n",
       "    .dataframe tbody tr th {\n",
       "        vertical-align: top;\n",
       "    }\n",
       "\n",
       "    .dataframe thead th {\n",
       "        text-align: right;\n",
       "    }\n",
       "</style>\n",
       "<table border=\"1\" class=\"dataframe\">\n",
       "  <thead>\n",
       "    <tr style=\"text-align: right;\">\n",
       "      <th></th>\n",
       "      <th>_nocache</th>\n",
       "      <th>distinct_id</th>\n",
       "      <th>event</th>\n",
       "      <th>jssdk_error</th>\n",
       "      <th>lib</th>\n",
       "      <th>properties</th>\n",
       "      <th>time</th>\n",
       "      <th>type</th>\n",
       "    </tr>\n",
       "  </thead>\n",
       "  <tbody>\n",
       "    <tr>\n",
       "      <th>0</th>\n",
       "      <td>0654392402996</td>\n",
       "      <td>595466e9a8e733434ce08de16e927d985e0b5d48</td>\n",
       "      <td>index_leave</td>\n",
       "      <td>NaN</td>\n",
       "      <td>{'$lib': 'js', '$lib_method': 'code', '$lib_ve...</td>\n",
       "      <td>{'$os': 'windows', '$model': 'pc', '$os_versio...</td>\n",
       "      <td>1488791047953</td>\n",
       "      <td>track</td>\n",
       "    </tr>\n",
       "  </tbody>\n",
       "</table>\n",
       "</div>"
      ],
      "text/plain": [
       "        _nocache                               distinct_id        event  \\\n",
       "0  0654392402996  595466e9a8e733434ce08de16e927d985e0b5d48  index_leave   \n",
       "\n",
       "  jssdk_error                                                lib  \\\n",
       "0         NaN  {'$lib': 'js', '$lib_method': 'code', '$lib_ve...   \n",
       "\n",
       "                                          properties           time   type  \n",
       "0  {'$os': 'windows', '$model': 'pc', '$os_versio...  1488791047953  track  "
      ]
     },
     "execution_count": 3,
     "metadata": {},
     "output_type": "execute_result"
    }
   ],
   "source": [
    "df.head(1)"
   ]
  },
  {
   "cell_type": "markdown",
   "metadata": {},
   "source": [
    "### 1. Develop Basic Understanding"
   ]
  },
  {
   "cell_type": "code",
   "execution_count": 4,
   "metadata": {},
   "outputs": [],
   "source": [
    "df_activity = df.copy()\n",
    "df_activity.loc[df.event.isnull(), 'event'] = 'unknown event'"
   ]
  },
  {
   "cell_type": "code",
   "execution_count": 5,
   "metadata": {
    "scrolled": true
   },
   "outputs": [
    {
     "data": {
      "text/plain": [
       "11756"
      ]
     },
     "execution_count": 5,
     "metadata": {},
     "output_type": "execute_result"
    }
   ],
   "source": [
    "# Understand Number of unique users\n",
    "len(df_activity.distinct_id.unique())"
   ]
  },
  {
   "cell_type": "code",
   "execution_count": 6,
   "metadata": {
    "scrolled": false
   },
   "outputs": [
    {
     "data": {
      "text/plain": [
       "9413"
      ]
     },
     "execution_count": 6,
     "metadata": {},
     "output_type": "execute_result"
    }
   ],
   "source": [
    "# Understand Number of unknown events\n",
    "len(df_activity[df_activity.event == 'unknown event'].distinct_id.unique())"
   ]
  },
  {
   "cell_type": "code",
   "execution_count": 7,
   "metadata": {},
   "outputs": [
    {
     "name": "stdout",
     "output_type": "stream",
     "text": [
      "There are 80.07% Unknown events\n",
      "Out of all Unknown events, 99.99% of them happen as the last step for the user\n"
     ]
    }
   ],
   "source": [
    "g = df_activity.groupby(['distinct_id', 'time'], ).agg({'event': 'min'}).sort_values(['distinct_id', 'time'])\n",
    "\n",
    "def check_unkown():\n",
    "    unknown_idx = list(df_activity[df_activity.event == 'unknown event'].distinct_id.unique())\n",
    "    print(\"There are %.2f%% Unknown events\"%(100 * len(unknown_idx) / len(df_activity.distinct_id.unique())))\n",
    "    ls = list(map(lambda x: np.where(g.loc[x].event == 'unknown event')[0][0] == len(g.loc[x])-1,\n",
    "                  unknown_idx))\n",
    "    print('Out of all Unknown events, %.2f%% of them happen as the last step for the user'%(100*sum(ls)/len(ls)))\n",
    "    # return ls\n",
    "check_unkown()"
   ]
  },
  {
   "cell_type": "code",
   "execution_count": 8,
   "metadata": {},
   "outputs": [
    {
     "data": {
      "text/html": [
       "<div>\n",
       "<style scoped>\n",
       "    .dataframe tbody tr th:only-of-type {\n",
       "        vertical-align: middle;\n",
       "    }\n",
       "\n",
       "    .dataframe tbody tr th {\n",
       "        vertical-align: top;\n",
       "    }\n",
       "\n",
       "    .dataframe thead th {\n",
       "        text-align: right;\n",
       "    }\n",
       "</style>\n",
       "<table border=\"1\" class=\"dataframe\">\n",
       "  <thead>\n",
       "    <tr style=\"text-align: right;\">\n",
       "      <th></th>\n",
       "      <th></th>\n",
       "      <th>event</th>\n",
       "    </tr>\n",
       "    <tr>\n",
       "      <th>distinct_id</th>\n",
       "      <th>time</th>\n",
       "      <th></th>\n",
       "    </tr>\n",
       "  </thead>\n",
       "  <tbody>\n",
       "    <tr>\n",
       "      <th rowspan=\"5\" valign=\"top\">00007ef910b6c9911f1b89d01a09aa3fc862f4a9</th>\n",
       "      <th>1488865937039</th>\n",
       "      <td>$pageview</td>\n",
       "    </tr>\n",
       "    <tr>\n",
       "      <th>1488865940372</th>\n",
       "      <td>btnClick</td>\n",
       "    </tr>\n",
       "    <tr>\n",
       "      <th>1488865949692</th>\n",
       "      <td>click_send_cellphone</td>\n",
       "    </tr>\n",
       "    <tr>\n",
       "      <th>1488865956872</th>\n",
       "      <td>click_send_cellphone</td>\n",
       "    </tr>\n",
       "    <tr>\n",
       "      <th>1488865970389</th>\n",
       "      <td>formSubmit</td>\n",
       "    </tr>\n",
       "  </tbody>\n",
       "</table>\n",
       "</div>"
      ],
      "text/plain": [
       "                                                                       event\n",
       "distinct_id                              time                               \n",
       "00007ef910b6c9911f1b89d01a09aa3fc862f4a9 1488865937039             $pageview\n",
       "                                         1488865940372              btnClick\n",
       "                                         1488865949692  click_send_cellphone\n",
       "                                         1488865956872  click_send_cellphone\n",
       "                                         1488865970389            formSubmit"
      ]
     },
     "execution_count": 8,
     "metadata": {},
     "output_type": "execute_result"
    }
   ],
   "source": [
    "# group activity event bu user_id\n",
    "g.head(5)"
   ]
  },
  {
   "cell_type": "markdown",
   "metadata": {},
   "source": [
    "**We only interested in the user whose first time visit is recorded** in the dataset for analysis (otherwise, we do not know when the user first come to website)"
   ]
  },
  {
   "cell_type": "code",
   "execution_count": 9,
   "metadata": {},
   "outputs": [
    {
     "name": "stdout",
     "output_type": "stream",
     "text": [
      "Out of Total 11756 users, 9375 of them have visit the site for the first time within the time window.\n",
      "Out of 9375 first time visit users, 9369 of them has duplicate values\n"
     ]
    }
   ],
   "source": [
    "# find the first_visit = TRUE event for each user\n",
    "# when building the model to consider the churn rate, we are interested in the life cycle of each user.\n",
    "def parseFirstTime(x):\n",
    "    try:\n",
    "        return x.properties['$is_first_time'] == True\n",
    "    except:\n",
    "        return False\n",
    "    \n",
    "focus_user = df_activity[df_activity.apply(parseFirstTime, axis=1)].distinct_id\n",
    "print('Out of Total %s users, %s of them have visit the site for the first time within the time window.\\nOut of %s first time visit users, %s of them has duplicate values'\\\n",
    "      %(len(df_activity.distinct_id.unique()), len(focus_user), len(focus_user), len(focus_user.unique())))"
   ]
  },
  {
   "cell_type": "code",
   "execution_count": 10,
   "metadata": {},
   "outputs": [],
   "source": [
    "g = df_activity.set_index('distinct_id').loc[focus_user].reset_index()\n",
    "\n",
    "g = g.sort_values(['distinct_id', 'time'])\n",
    "\n",
    "g = g.set_index('distinct_id')\n",
    "\n",
    "g = g.reset_index()"
   ]
  },
  {
   "cell_type": "markdown",
   "metadata": {},
   "source": [
    "### 2. Data Preprocessing"
   ]
  },
  {
   "cell_type": "code",
   "execution_count": 11,
   "metadata": {},
   "outputs": [],
   "source": [
    "# unpack the key values and structure the dataset for analysis\n",
    "def parse_dict(x):\n",
    "    return [k for k in x.keys()]\n",
    "\n",
    "def parse_col(df, x):\n",
    "    temp = df.loc[:,x].apply(parse_dict).values\n",
    "    key_list = [elem for ls in temp for elem in ls]\n",
    "    key_set = set(key_list)\n",
    "    return list(key_set)\n",
    "\n",
    "def unpack_col(x):\n",
    "    value = [v for v in x.values()]\n",
    "    key = [k for k in x.keys()]\n",
    "    return pd.Series(value, index=key)"
   ]
  },
  {
   "cell_type": "code",
   "execution_count": 12,
   "metadata": {},
   "outputs": [],
   "source": [
    "# unpack two dictionary into python df\n",
    "unpack_prop = g.properties.apply(unpack_col)\n",
    "unpack_lib = g.lib.apply(unpack_col)"
   ]
  },
  {
   "cell_type": "code",
   "execution_count": 13,
   "metadata": {},
   "outputs": [
    {
     "name": "stdout",
     "output_type": "stream",
     "text": [
      "(55571, 67) (55571, 67)\n"
     ]
    }
   ],
   "source": [
    "# merge the unpack json properties into the new dataframe called g_full\n",
    "g_full = pd.merge(g, unpack_prop, left_index=True, right_index=True)\n",
    "\n",
    "g_full = pd.merge(g_full, unpack_lib, left_index=True, right_index=True)\n",
    "\n",
    "g_full = g_full.drop(columns=['lib', 'properties'])\n",
    "\n",
    "g_fullT = g_full.copy()\n",
    "\n",
    "g_full.loc[:,'time'] = g_full.loc[:,'time'].apply(lambda x: int(np.floor(x / 1000)))\n",
    "\n",
    "unique_user = len(g_full.distinct_id.unique())\n",
    "\n",
    "print(g_fullT.shape, g_full.shape)"
   ]
  },
  {
   "cell_type": "code",
   "execution_count": 32,
   "metadata": {},
   "outputs": [
    {
     "data": {
      "text/plain": [
       "0"
      ]
     },
     "execution_count": 32,
     "metadata": {},
     "output_type": "execute_result"
    }
   ],
   "source": [
    "# def test_(x):\n",
    "#     x = x.loc[:,['$latest_utm_source',\n",
    "#  '$latest_utm_medium',\n",
    "#  '$latest_utm_campaign',\n",
    "#  '$latest_utm_content',\n",
    "#  '$latest_utm_term','$utm_source',\n",
    "#  '$utm_medium',\n",
    "#  '$utm_campaign',\n",
    "#  '$utm_content',\n",
    "#  '$utm_term']].copy()\n",
    "#     temp = x.apply(lambda x: len(set(x[~x.isnull()])))\n",
    "    \n",
    "#     return temp\n",
    "\n",
    "# temp = g_full.head(1000).groupby('distinct_id').apply(test_)\n",
    "\n",
    "# sum(temp.iloc[:,:5].apply(sum, axis=1) - temp.iloc[:,5:].apply(sum, axis=1))"
   ]
  },
  {
   "cell_type": "markdown",
   "metadata": {},
   "source": [
    "lasted_utm and utm are highly correlated. Therefore, I will drop all the lasted utm and preserved only the utm columns for analysis"
   ]
  },
  {
   "cell_type": "code",
   "execution_count": 33,
   "metadata": {},
   "outputs": [],
   "source": [
    "def missing_user_level(x, col):\n",
    "    x = x[col].copy()\n",
    "    x = x[~x.isnull()]\n",
    "    return len(x) >= 1\n",
    "\n",
    "def calculateMissing(col):\n",
    "    return sum(g_full.groupby('distinct_id').apply(lambda x: missing_user_level(x, col))) / unique_user"
   ]
  },
  {
   "cell_type": "code",
   "execution_count": 34,
   "metadata": {
    "scrolled": true
   },
   "outputs": [
    {
     "name": "stdout",
     "output_type": "stream",
     "text": [
      "Progress: 100.00%    Current Column: $lib_version_y_hostage"
     ]
    }
   ],
   "source": [
    "import sys\n",
    "dict1 = {}\n",
    "for idx, elem in enumerate(g_full.columns):\n",
    "    sys.stdout.write('\\rProgress: %.2f%%  '%(round(100 * (idx+1) / len(g_full.columns),2)) +\\\n",
    "                    '  Current Column: %s'%(elem))\n",
    "    dict1[elem] = calculateMissing(elem)\n",
    "    "
   ]
  },
  {
   "cell_type": "code",
   "execution_count": 35,
   "metadata": {},
   "outputs": [
    {
     "data": {
      "text/html": [
       "<div>\n",
       "<style scoped>\n",
       "    .dataframe tbody tr th:only-of-type {\n",
       "        vertical-align: middle;\n",
       "    }\n",
       "\n",
       "    .dataframe tbody tr th {\n",
       "        vertical-align: top;\n",
       "    }\n",
       "\n",
       "    .dataframe thead th {\n",
       "        text-align: right;\n",
       "    }\n",
       "</style>\n",
       "<table border=\"1\" class=\"dataframe\">\n",
       "  <thead>\n",
       "    <tr style=\"text-align: right;\">\n",
       "      <th></th>\n",
       "      <th>distinct_id</th>\n",
       "      <th>_nocache</th>\n",
       "      <th>event</th>\n",
       "      <th>jssdk_error</th>\n",
       "      <th>time</th>\n",
       "      <th>type</th>\n",
       "      <th>$os</th>\n",
       "      <th>$model</th>\n",
       "      <th>$os_version</th>\n",
       "      <th>$screen_height</th>\n",
       "      <th>...</th>\n",
       "      <th>isMsg</th>\n",
       "      <th>referrerUrl</th>\n",
       "      <th>referrHostUrl</th>\n",
       "      <th>siteUrl</th>\n",
       "      <th>url_path</th>\n",
       "      <th>_latest_ch</th>\n",
       "      <th>ch</th>\n",
       "      <th>$lib_y</th>\n",
       "      <th>$lib_method</th>\n",
       "      <th>$lib_version_y</th>\n",
       "    </tr>\n",
       "  </thead>\n",
       "  <tbody>\n",
       "    <tr>\n",
       "      <th>0</th>\n",
       "      <td>00007ef910b6c9911f1b89d01a09aa3fc862f4a9</td>\n",
       "      <td>2833443161456</td>\n",
       "      <td>$pageview</td>\n",
       "      <td>NaN</td>\n",
       "      <td>1488865937</td>\n",
       "      <td>track</td>\n",
       "      <td>iOS</td>\n",
       "      <td>iphone</td>\n",
       "      <td>10.2</td>\n",
       "      <td>667.0</td>\n",
       "      <td>...</td>\n",
       "      <td>NaN</td>\n",
       "      <td>NaN</td>\n",
       "      <td>NaN</td>\n",
       "      <td>NaN</td>\n",
       "      <td>NaN</td>\n",
       "      <td>NaN</td>\n",
       "      <td>NaN</td>\n",
       "      <td>js</td>\n",
       "      <td>code</td>\n",
       "      <td>1.6.20</td>\n",
       "    </tr>\n",
       "    <tr>\n",
       "      <th>1</th>\n",
       "      <td>00007ef910b6c9911f1b89d01a09aa3fc862f4a9</td>\n",
       "      <td>1797247386976</td>\n",
       "      <td>btnClick</td>\n",
       "      <td>NaN</td>\n",
       "      <td>1488865940</td>\n",
       "      <td>track</td>\n",
       "      <td>iOS</td>\n",
       "      <td>iphone</td>\n",
       "      <td>10.2</td>\n",
       "      <td>667.0</td>\n",
       "      <td>...</td>\n",
       "      <td>NaN</td>\n",
       "      <td>NaN</td>\n",
       "      <td>NaN</td>\n",
       "      <td>NaN</td>\n",
       "      <td>NaN</td>\n",
       "      <td>NaN</td>\n",
       "      <td>NaN</td>\n",
       "      <td>js</td>\n",
       "      <td>code</td>\n",
       "      <td>1.6.20</td>\n",
       "    </tr>\n",
       "  </tbody>\n",
       "</table>\n",
       "<p>2 rows × 67 columns</p>\n",
       "</div>"
      ],
      "text/plain": [
       "                                distinct_id       _nocache      event  \\\n",
       "0  00007ef910b6c9911f1b89d01a09aa3fc862f4a9  2833443161456  $pageview   \n",
       "1  00007ef910b6c9911f1b89d01a09aa3fc862f4a9  1797247386976   btnClick   \n",
       "\n",
       "  jssdk_error        time   type  $os  $model $os_version  $screen_height  \\\n",
       "0         NaN  1488865937  track  iOS  iphone        10.2           667.0   \n",
       "1         NaN  1488865940  track  iOS  iphone        10.2           667.0   \n",
       "\n",
       "       ...        isMsg referrerUrl referrHostUrl siteUrl url_path _latest_ch  \\\n",
       "0      ...          NaN         NaN           NaN     NaN      NaN        NaN   \n",
       "1      ...          NaN         NaN           NaN     NaN      NaN        NaN   \n",
       "\n",
       "    ch $lib_y $lib_method $lib_version_y  \n",
       "0  NaN     js        code         1.6.20  \n",
       "1  NaN     js        code         1.6.20  \n",
       "\n",
       "[2 rows x 67 columns]"
      ]
     },
     "execution_count": 35,
     "metadata": {},
     "output_type": "execute_result"
    }
   ],
   "source": [
    "g_full.head(2)"
   ]
  },
  {
   "cell_type": "markdown",
   "metadata": {},
   "source": [
    "**Create g_event and g_analysis dataframe**\n",
    "* g_event: user activity data (event level)\n",
    "* g_analysis: user property data (user level)"
   ]
  },
  {
   "cell_type": "code",
   "execution_count": null,
   "metadata": {},
   "outputs": [],
   "source": [
    "# select subset of data from the dataframe\n",
    "focus_columns = [\n",
    "    'distinct_id',\n",
    "    'time',\n",
    "    'event',\n",
    "    '$model',\n",
    "    '$browser',\n",
    "    '$utm_source',\n",
    "     '$utm_medium',\n",
    "     '$utm_campaign',\n",
    "     '$utm_content',\n",
    "     '$utm_term',\n",
    "    '$is_first_time',\n",
    "    '$ip',\n",
    "    'pageUrl',\n",
    "    '$url',\n",
    "    'pageStayTime',\n",
    " 'pagePosition',\n",
    "    'name'\n",
    "]\n",
    "\n",
    "g_sub = g_full.loc[:,focus_columns].copy().reindex()\n",
    "\n",
    "focus_ = ['$model', '$browser', '$utm_source', '$utm_medium', \n",
    "          '$utm_campaign', '$utm_content', '$utm_term', '$is_first_time',\n",
    "         '$ip']\n",
    "def getColumns(x, cols):\n",
    "    x = x.loc[:,cols]\n",
    "    filter_ = x.loc[:,'$is_first_time'] == True\n",
    "    x_sub = x[filter_].copy()\n",
    "    return x_sub\n",
    "\n",
    "g_analysis = g_sub.groupby('distinct_id').apply(lambda x: getColumns(x, focus_)).copy()\n",
    "g_analysis = g_analysis.reset_index(1).drop(columns=['level_1'])\n",
    "\n",
    "g_analysis = g_analysis.loc[g_analysis.index.value_counts() <= 1]"
   ]
  },
  {
   "cell_type": "code",
   "execution_count": 15,
   "metadata": {},
   "outputs": [
    {
     "data": {
      "text/plain": [
       "((55473, 7), (9368, 9))"
      ]
     },
     "execution_count": 15,
     "metadata": {},
     "output_type": "execute_result"
    }
   ],
   "source": [
    "g_event = g_sub.loc[:,['distinct_id', 'time', 'event', 'pageUrl', '$url', 'pageStayTime', 'pagePosition','name']].copy()\n",
    "g_event = g_event.set_index('distinct_id')\n",
    "g_event = g_event.loc[g_analysis.index]\n",
    "\n",
    "g_event.shape, g_analysis.shape"
   ]
  },
  {
   "cell_type": "markdown",
   "metadata": {},
   "source": [
    "### 3.EDA"
   ]
  },
  {
   "cell_type": "markdown",
   "metadata": {},
   "source": [
    "a. Find average users activity level for each event:\n",
    "\n",
    "- Most of users has around lower than 5 activity level with the website"
   ]
  },
  {
   "cell_type": "code",
   "execution_count": 379,
   "metadata": {},
   "outputs": [],
   "source": [
    "# histgram\n",
    "def plot_histgram(x, ax, threshold=None, title=None, xlabel=None, ylabel=None, alpha=1, label='Default', density=False, bins=100):\n",
    "    \"\"\"Helpers to plot histgram given an array of values\n",
    "    \n",
    "    Args:\n",
    "    - x: an array in pd.Series format.\n",
    "    - threshold: the proportion of number of sample for visualization (drop outliers)\n",
    "    - title: title of the plot\n",
    "    - xlabel: x axis label of the plot\n",
    "    - ylabel: y axis label of the plot\n",
    "    \"\"\"\n",
    "    seriestype = type(pd.Series(1))\n",
    "    if type(x) != seriestype:\n",
    "        x = pd.Series(x)\n",
    "    x = x[~x.isnull()]\n",
    "    x = x.values\n",
    "    # print(len(x))\n",
    "    if threshold:\n",
    "        sort_idx = np.argsort(x)\n",
    "        x = x[sort_idx[:int(len(x)*threshold)]]\n",
    "        # print(len(x))\n",
    "    # fig, ax = plt.subplots()\n",
    "    ax.hist(x, bins=bins, alpha=alpha, label=label, density=density)\n",
    "    ax.spines['right'].set_color('none')\n",
    "    ax.spines['top'].set_color('none')\n",
    "    if title:\n",
    "        ax.set_title(title, y=1.08, fontsize=14)\n",
    "    if xlabel:\n",
    "        ax.set_xlabel(xlabel)\n",
    "    if ylabel:\n",
    "        ax.set_ylabel(ylabel)"
   ]
  },
  {
   "cell_type": "code",
   "execution_count": 18,
   "metadata": {},
   "outputs": [],
   "source": [
    "def findEvents(x):\n",
    "    x = x.event\n",
    "    x = x[~x.isnull()]\n",
    "    x_ = list(map(lambda x: False if re.search(r'leave$', x) else True, list(x)))\n",
    "    return sum(x_)\n",
    "event_per_user = g_event.groupby('distinct_id').apply(findEvents)"
   ]
  },
  {
   "cell_type": "code",
   "execution_count": 19,
   "metadata": {},
   "outputs": [
    {
     "data": {
      "image/png": "[encoded data removed]",
      "text/plain": [
       "<Figure size 432x288 with 1 Axes>"
      ]
     },
     "metadata": {},
     "output_type": "display_data"
    }
   ],
   "source": [
    "fig, ax = plt.subplots()\n",
    "plot_histgram(event_per_user.values, ax,\n",
    "                    title='User Event Interactions',\n",
    "                    xlabel='Number of Events',\n",
    "                    ylabel='Counts',\n",
    "                     threshold=.99)"
   ]
  },
  {
   "cell_type": "markdown",
   "metadata": {},
   "source": [
    "2. Find average users activity level for different btnClick event\n",
    "    - A lot of users clicked the button 0 or 1 time."
   ]
  },
  {
   "cell_type": "code",
   "execution_count": 20,
   "metadata": {},
   "outputs": [],
   "source": [
    "def findBtnClick(x, getLength=True):\n",
    "    # print(x)\n",
    "    x = x.reset_index()\n",
    "    x = x[x.event == 'btnClick']\n",
    "    if getLength:\n",
    "        return len(x.name.values)\n",
    "    else:\n",
    "        return list(set(x.name.values))\n",
    "event_per_user = g_event.groupby('distinct_id').apply(findBtnClick)"
   ]
  },
  {
   "cell_type": "code",
   "execution_count": 21,
   "metadata": {},
   "outputs": [
    {
     "data": {
      "image/png": "[encoded data removed]",
      "text/plain": [
       "<Figure size 432x288 with 1 Axes>"
      ]
     },
     "metadata": {},
     "output_type": "display_data"
    }
   ],
   "source": [
    "fig, ax = plt.subplots()\n",
    "plot_histgram(event_per_user.values, ax,\n",
    "                    title='User Button Click Frequency Distribution',\n",
    "                    xlabel='Number of bntClick',\n",
    "                    ylabel='Counts',\n",
    "                     threshold=.99)"
   ]
  },
  {
   "cell_type": "markdown",
   "metadata": {},
   "source": [
    "3. Which button is clicked most of the time?\n",
    "    - request button is clicked the most."
   ]
  },
  {
   "cell_type": "code",
   "execution_count": 22,
   "metadata": {},
   "outputs": [],
   "source": [
    "click_event = g_event.groupby('distinct_id').apply(lambda x: findBtnClick(x, getLength=False)).values.squeeze()\n",
    "clicked_user = list(filter(lambda x: len(x) != 0, click_event))"
   ]
  },
  {
   "cell_type": "code",
   "execution_count": 23,
   "metadata": {},
   "outputs": [],
   "source": [
    "from collections import Counter\n",
    "click_count = Counter([elem for item in clicked_user for elem in item])\n",
    "\n",
    "click_x = [[v / len(clicked_user), k] for k, v in click_count.items()]\n",
    "click_x.sort(key=lambda x: x[0])"
   ]
  },
  {
   "cell_type": "code",
   "execution_count": 24,
   "metadata": {},
   "outputs": [
    {
     "data": {
      "text/plain": [
       "Text(0.5,0,'Clicking Percentage')"
      ]
     },
     "execution_count": 24,
     "metadata": {},
     "output_type": "execute_result"
    },
    {
     "data": {
      "image/png": "[encoded data removed]",
      "text/plain": [
       "<Figure size 432x288 with 1 Axes>"
      ]
     },
     "metadata": {},
     "output_type": "display_data"
    }
   ],
   "source": [
    "fig, ax = plt.subplots()\n",
    "ax.barh([k[1] for k in click_x], [k[0] for k in click_x])\n",
    "ax.spines['right'].set_color('none')\n",
    "ax.spines['top'].set_color('none')\n",
    "ax.set_title('Button Type Popularity')\n",
    "ax.set_ylabel('Button Type')\n",
    "ax.set_xlabel('Clicking Percentage')"
   ]
  },
  {
   "cell_type": "markdown",
   "metadata": {},
   "source": [
    "4. Which pages have this user seen?\n",
    "    - Most of people see the landing page."
   ]
  },
  {
   "cell_type": "code",
   "execution_count": 25,
   "metadata": {},
   "outputs": [],
   "source": [
    "def parseUrl(url):\n",
    "    if url != url:\n",
    "        return np.nan\n",
    "    url = str(url)\n",
    "    # print(str(url))\n",
    "    try:\n",
    "        x = re.search(r'[^(https://)]/.*', str(url))[0]\n",
    "        x = x.split('/')[1]\n",
    "        x = x.split('.')[0]\n",
    "        \n",
    "        if x[0] == '?':\n",
    "            return 'landing'\n",
    "        return x\n",
    "    except:\n",
    "        return 'landing'\n",
    "\n",
    "page_see = g_event.groupby('distinct_id').apply(lambda x: list(set([parseUrl(l) for l in x['$url'] if l == l])))\n",
    "\n",
    "page_see = page_see.values.squeeze()\n",
    "\n",
    "page_count = Counter([e for i in page_see for e in i])"
   ]
  },
  {
   "cell_type": "code",
   "execution_count": 26,
   "metadata": {},
   "outputs": [
    {
     "data": {
      "text/plain": [
       "Text(0.5,0,'View Percentage')"
      ]
     },
     "execution_count": 26,
     "metadata": {},
     "output_type": "execute_result"
    },
    {
     "data": {
      "image/png": "[encoded data removed]",
      "text/plain": [
       "<Figure size 432x288 with 1 Axes>"
      ]
     },
     "metadata": {},
     "output_type": "display_data"
    }
   ],
   "source": [
    "fig, ax = plt.subplots()\n",
    "cand = sorted(page_count.most_common(8), key=lambda x: x[1], reverse=False)\n",
    "ax.barh([k[0] for k in cand], [k[1] / len(g_event.index.unique()) for k in cand])\n",
    "ax.spines['right'].set_color('none')\n",
    "ax.spines['top'].set_color('none')\n",
    "ax.set_title('Type of Page viewed per User')\n",
    "ax.set_ylabel('Page Type')\n",
    "ax.set_xlabel('View Percentage')"
   ]
  },
  {
   "cell_type": "markdown",
   "metadata": {},
   "source": [
    "5. In which page did user click the request button for demo\n",
    "    - Most of people who click the button for demo in landing page. Some of them click the button on demo page."
   ]
  },
  {
   "cell_type": "code",
   "execution_count": 27,
   "metadata": {},
   "outputs": [],
   "source": [
    "click_request = [[idx, v] for idx, v in zip(g_event[g_event.name == 'request'].pageUrl.apply(parseUrl).value_counts().index[:-2], \n",
    "                    g_event[g_event.name == 'request'].pageUrl.apply(parseUrl).value_counts().values[:-2])]"
   ]
  },
  {
   "cell_type": "code",
   "execution_count": 28,
   "metadata": {},
   "outputs": [
    {
     "data": {
      "text/plain": [
       "Text(0.5,0,'View Percentage')"
      ]
     },
     "execution_count": 28,
     "metadata": {},
     "output_type": "execute_result"
    },
    {
     "data": {
      "image/png": "[encoded data removed]",
      "text/plain": [
       "<Figure size 432x288 with 1 Axes>"
      ]
     },
     "metadata": {},
     "output_type": "display_data"
    }
   ],
   "source": [
    "fig, ax = plt.subplots()\n",
    "click_request = sorted(click_request, key=lambda x: x[1], reverse=False)\n",
    "ax.barh([k[0] for k in click_request], [k[1] / len(clicked_user) for k in click_request])\n",
    "ax.spines['right'].set_color('none')\n",
    "ax.spines['top'].set_color('none')\n",
    "ax.set_title('Type of Page Clicked for Demo')\n",
    "ax.set_ylabel('Page Type')\n",
    "ax.set_xlabel('View Percentage')"
   ]
  },
  {
   "cell_type": "markdown",
   "metadata": {},
   "source": [
    "6. How long does the user take to convert?\n",
    "    - The plot shows that most of the users click the submit button after first visit in around 1-4 minutes. Did they actually look into the about, demo, video pages? Or they just request demo without reading information."
   ]
  },
  {
   "cell_type": "code",
   "execution_count": 33,
   "metadata": {},
   "outputs": [],
   "source": [
    "def findConversionLength(x, action):\n",
    "    # sort the time value\n",
    "    x = x.sort_values('time')\n",
    "    x = x[x.event != 'unknown event']\n",
    "    x.index = np.arange(len(x))\n",
    "#     print(x)\n",
    "    # print(np.where(x['$is_first_time'])[0][0])\n",
    "    # print(np.where(x['event'] == action)[0][0])\n",
    "    # print(np.where(x['event'] == 'formSubmit')[0][0])\n",
    "#     print(x.time[0])\n",
    "    try:\n",
    "        first_timestamp = x.time[np.where(x['$is_first_time'])[0][0]]\n",
    "        submit_timestamp = x.time[np.where(x['event'] == action)[0][0]]\n",
    "    except:\n",
    "        first_timestamp = np.nan\n",
    "        submit_timestamp = np.nan\n",
    "    duration = submit_timestamp - first_timestamp\n",
    "    return duration\n",
    "\n",
    "conversion_length = g_full.groupby('distinct_id').apply(lambda x: findConversionLength(x, 'formSubmit'))"
   ]
  },
  {
   "cell_type": "code",
   "execution_count": 34,
   "metadata": {
    "scrolled": true
   },
   "outputs": [
    {
     "data": {
      "image/png": "[encoded data removed]",
      "text/plain": [
       "<Figure size 432x288 with 1 Axes>"
      ]
     },
     "metadata": {},
     "output_type": "display_data"
    }
   ],
   "source": [
    "fig, ax = plt.subplots()\n",
    "plot_histgram(conversion_length/60, ax,\n",
    "                    title='Length of Time to click formSubmit for each user',\n",
    "                    xlabel='Time (in minutes)',\n",
    "                    ylabel='Number of Users',\n",
    "                    threshold=.8)"
   ]
  },
  {
   "cell_type": "markdown",
   "metadata": {},
   "source": [
    "6. Find conversion rate and visualize the funnel for conversion\n",
    "    - Out of all users who view the page, only 20% of them click the request button for demo, and only 5% user who decide to sign up for demo."
   ]
  },
  {
   "cell_type": "code",
   "execution_count": 35,
   "metadata": {},
   "outputs": [],
   "source": [
    "# pageview - click_send_cellphone - verify_cellphone_code - formSubmit\n",
    "def getEvent(x, focus):\n",
    "    if focus == 'btnClick_request':\n",
    "        k = x.copy()\n",
    "        x1 = x.event == 'btnClick' \n",
    "        x1 = np.array([1 if j else 0 for j in x1.values])\n",
    "        x2 = k.name == 'request'\n",
    "        x2 = np.array([1 if x else 0 for x in x2.values])\n",
    "        # x2 = np.array([1 if x else 0 for x in x2.values])\n",
    "        find_ = list(filter(lambda x: x ==2, list(x1+x2)))\n",
    "        return len(find_) > 0\n",
    "        # print(x)\n",
    "    else:\n",
    "        x = x.event == focus\n",
    "    \n",
    "    return sum(x) > 0\n",
    "\n",
    "funnel = ['$pageview', 'btnClick', 'btnClick_request', 'click_send_cellphone', 'verify_cellphone_code', 'formSubmit']\n",
    "funnel_pct = []\n",
    "for idx, elem in enumerate(funnel):\n",
    "    v_ = sum(g_event.groupby('distinct_id').apply(lambda x: getEvent(x, elem)))\n",
    "    funnel_pct.append(v_)\n",
    "\n",
    "# g_event.head(50).groupby('distinct_id').apply(lambda x: getEvent(x, '$pageview'))"
   ]
  },
  {
   "cell_type": "code",
   "execution_count": 36,
   "metadata": {},
   "outputs": [
    {
     "data": {
      "text/plain": [
       "Text(0.5,0,'Funnel Percentage')"
      ]
     },
     "execution_count": 36,
     "metadata": {},
     "output_type": "execute_result"
    },
    {
     "data": {
      "image/png": "[encoded data removed]",
      "text/plain": [
       "<Figure size 432x288 with 1 Axes>"
      ]
     },
     "metadata": {},
     "output_type": "display_data"
    }
   ],
   "source": [
    "fig, ax = plt.subplots()\n",
    "click_request = sorted(click_request, key=lambda x: x[1], reverse=False)\n",
    "ax.barh(funnel[::-1], [k / unique_user for k in funnel_pct][::-1])\n",
    "ax.spines['right'].set_color('none')\n",
    "ax.spines['top'].set_color('none')\n",
    "ax.set_title('Funnel Analysis per user')\n",
    "ax.set_ylabel('Action Type')\n",
    "ax.set_xlabel('Funnel Percentage')"
   ]
  },
  {
   "cell_type": "code",
   "execution_count": 37,
   "metadata": {},
   "outputs": [
    {
     "data": {
      "text/plain": [
       "(Index(['time', 'event', 'pageUrl', '$url', 'pageStayTime', 'pagePosition',\n",
       "        'name'],\n",
       "       dtype='object'),\n",
       " Index(['$model', '$browser', '$utm_source', '$utm_medium', '$utm_campaign',\n",
       "        '$utm_content', '$utm_term', '$is_first_time', '$ip', 'converted'],\n",
       "       dtype='object'))"
      ]
     },
     "execution_count": 37,
     "metadata": {},
     "output_type": "execute_result"
    }
   ],
   "source": [
    "g_analysis = pd.merge(\n",
    "    g_analysis,\n",
    "    pd.DataFrame(g_event.groupby('distinct_id').apply(lambda x: getEvent(x, 'formSubmit'))),\n",
    "    left_index=True,\n",
    "    right_index=True\n",
    ")\n",
    "\n",
    "g_analysis = g_analysis.rename(columns={0: 'converted'})\n",
    "\n",
    "g_event.columns, g_analysis.columns"
   ]
  },
  {
   "cell_type": "markdown",
   "metadata": {},
   "source": [
    "### 3. EDA cont."
   ]
  },
  {
   "cell_type": "markdown",
   "metadata": {},
   "source": [
    "1. The mobile user will probably has lower conversion rate than pc users\n",
    "\n",
    "**Answer: Most of users who are using PC or laptop tend to be more likely to sign up for demo.**"
   ]
  },
  {
   "cell_type": "code",
   "execution_count": 38,
   "metadata": {},
   "outputs": [
    {
     "data": {
      "text/html": [
       "<div>\n",
       "<style scoped>\n",
       "    .dataframe tbody tr th:only-of-type {\n",
       "        vertical-align: middle;\n",
       "    }\n",
       "\n",
       "    .dataframe tbody tr th {\n",
       "        vertical-align: top;\n",
       "    }\n",
       "\n",
       "    .dataframe thead th {\n",
       "        text-align: right;\n",
       "    }\n",
       "</style>\n",
       "<table border=\"1\" class=\"dataframe\">\n",
       "  <thead>\n",
       "    <tr style=\"text-align: right;\">\n",
       "      <th></th>\n",
       "      <th></th>\n",
       "      <th>count</th>\n",
       "      <th>pct</th>\n",
       "    </tr>\n",
       "    <tr>\n",
       "      <th>mobile_binary</th>\n",
       "      <th>converted</th>\n",
       "      <th></th>\n",
       "      <th></th>\n",
       "    </tr>\n",
       "  </thead>\n",
       "  <tbody>\n",
       "    <tr>\n",
       "      <th rowspan=\"2\" valign=\"top\">0</th>\n",
       "      <th>False</th>\n",
       "      <td>6805</td>\n",
       "      <td>94.59</td>\n",
       "    </tr>\n",
       "    <tr>\n",
       "      <th>True</th>\n",
       "      <td>389</td>\n",
       "      <td>5.41</td>\n",
       "    </tr>\n",
       "    <tr>\n",
       "      <th rowspan=\"2\" valign=\"top\">1</th>\n",
       "      <th>False</th>\n",
       "      <td>2146</td>\n",
       "      <td>98.71</td>\n",
       "    </tr>\n",
       "    <tr>\n",
       "      <th>True</th>\n",
       "      <td>28</td>\n",
       "      <td>1.29</td>\n",
       "    </tr>\n",
       "  </tbody>\n",
       "</table>\n",
       "</div>"
      ],
      "text/plain": [
       "                         count    pct\n",
       "mobile_binary converted              \n",
       "0             False       6805  94.59\n",
       "              True         389   5.41\n",
       "1             False       2146  98.71\n",
       "              True          28   1.29"
      ]
     },
     "execution_count": 38,
     "metadata": {},
     "output_type": "execute_result"
    }
   ],
   "source": [
    "g_analysis.loc[:,'mobile_binary'] = g_analysis['$model'].apply(lambda x: 0 if x in ['pc', 'mac'] else 1).copy()\n",
    "\n",
    "pd.merge(\n",
    "    g_analysis.groupby(['mobile_binary', 'converted']).agg({'mobile_binary': 'count'}),\n",
    "    g_analysis.groupby(['mobile_binary', 'converted']).agg({'mobile_binary': 'count'}).groupby(level=0).apply(lambda x: round(x / x.sum() * 100, 2)),\n",
    "    left_index=True,\n",
    "    right_index=True).rename(columns={\n",
    "    'mobile_binary_x': 'count',\n",
    "    'mobile_binary_y': 'pct'\n",
    "})"
   ]
  },
  {
   "cell_type": "markdown",
   "metadata": {},
   "source": [
    "2. The user who did not have any external referrer domain should be more likely to be converted\n",
    "\n",
    "**Answer: Baidu appears to be the reference soruce that has the highest conversion rate.**"
   ]
  },
  {
   "cell_type": "code",
   "execution_count": 39,
   "metadata": {},
   "outputs": [
    {
     "data": {
      "text/html": [
       "<div>\n",
       "<style scoped>\n",
       "    .dataframe tbody tr th:only-of-type {\n",
       "        vertical-align: middle;\n",
       "    }\n",
       "\n",
       "    .dataframe tbody tr th {\n",
       "        vertical-align: top;\n",
       "    }\n",
       "\n",
       "    .dataframe thead th {\n",
       "        text-align: right;\n",
       "    }\n",
       "</style>\n",
       "<table border=\"1\" class=\"dataframe\">\n",
       "  <thead>\n",
       "    <tr style=\"text-align: right;\">\n",
       "      <th></th>\n",
       "      <th></th>\n",
       "      <th>count</th>\n",
       "      <th>pct</th>\n",
       "    </tr>\n",
       "    <tr>\n",
       "      <th>refer_source</th>\n",
       "      <th>converted</th>\n",
       "      <th></th>\n",
       "      <th></th>\n",
       "    </tr>\n",
       "  </thead>\n",
       "  <tbody>\n",
       "    <tr>\n",
       "      <th rowspan=\"2\" valign=\"top\">0</th>\n",
       "      <th>False</th>\n",
       "      <td>3189</td>\n",
       "      <td>96.34</td>\n",
       "    </tr>\n",
       "    <tr>\n",
       "      <th>True</th>\n",
       "      <td>121</td>\n",
       "      <td>3.66</td>\n",
       "    </tr>\n",
       "    <tr>\n",
       "      <th rowspan=\"2\" valign=\"top\">1</th>\n",
       "      <th>False</th>\n",
       "      <td>5041</td>\n",
       "      <td>94.86</td>\n",
       "    </tr>\n",
       "    <tr>\n",
       "      <th>True</th>\n",
       "      <td>273</td>\n",
       "      <td>5.14</td>\n",
       "    </tr>\n",
       "    <tr>\n",
       "      <th rowspan=\"2\" valign=\"top\">2</th>\n",
       "      <th>False</th>\n",
       "      <td>721</td>\n",
       "      <td>96.91</td>\n",
       "    </tr>\n",
       "    <tr>\n",
       "      <th>True</th>\n",
       "      <td>23</td>\n",
       "      <td>3.09</td>\n",
       "    </tr>\n",
       "  </tbody>\n",
       "</table>\n",
       "</div>"
      ],
      "text/plain": [
       "                        count    pct\n",
       "refer_source converted              \n",
       "0            False       3189  96.34\n",
       "             True         121   3.66\n",
       "1            False       5041  94.86\n",
       "             True         273   5.14\n",
       "2            False        721  96.91\n",
       "             True          23   3.09"
      ]
     },
     "execution_count": 39,
     "metadata": {},
     "output_type": "execute_result"
    }
   ],
   "source": [
    "def getNewSource(x):\n",
    "    if x != x:\n",
    "        return 0\n",
    "    elif x == 'baidu':\n",
    "        return 1\n",
    "    else:\n",
    "        return 2\n",
    "g_analysis.loc[:,'refer_source'] = g_analysis['$utm_source'].apply(getNewSource)\n",
    "\n",
    "pd.merge(\n",
    "    g_analysis.groupby(['refer_source', 'converted']).agg({'refer_source': 'count'}),\n",
    "    g_analysis.groupby(['refer_source', 'converted']).agg({'refer_source': 'count'}).groupby(level=0).apply(lambda x: round(x / x.sum() * 100, 2)),\n",
    "    left_index=True,\n",
    "    right_index=True).rename(columns={\n",
    "    'refer_source_x': 'count',\n",
    "    'refer_source_y': 'pct'\n",
    "})"
   ]
  },
  {
   "cell_type": "markdown",
   "metadata": {},
   "source": [
    "3. See if the user explore the pages other than the landing page. We should expect higher conversion rate for the user who also explore the video, demo, about pages.\n",
    "\n",
    "**Answer: Most of users who converted at least explore the website before signing up for a demo request**"
   ]
  },
  {
   "cell_type": "code",
   "execution_count": 40,
   "metadata": {},
   "outputs": [],
   "source": [
    "g_event_pv = g_event[g_event['event'] == '$pageview'].copy()\n",
    "\n",
    "def getRelevantView(x):\n",
    "    if x in ['landing', False]:\n",
    "        return 0\n",
    "    else:\n",
    "        return 1\n",
    "g_analysis.loc[:,'relevant_view'] = g_event_pv['$url'].apply(lambda x: getRelevantView(parseUrl(x))).\\\n",
    "groupby('distinct_id').apply(lambda x: 0 if sum(x) == 0 else 1).copy()"
   ]
  },
  {
   "cell_type": "code",
   "execution_count": 41,
   "metadata": {},
   "outputs": [
    {
     "data": {
      "text/html": [
       "<div>\n",
       "<style scoped>\n",
       "    .dataframe tbody tr th:only-of-type {\n",
       "        vertical-align: middle;\n",
       "    }\n",
       "\n",
       "    .dataframe tbody tr th {\n",
       "        vertical-align: top;\n",
       "    }\n",
       "\n",
       "    .dataframe thead th {\n",
       "        text-align: right;\n",
       "    }\n",
       "</style>\n",
       "<table border=\"1\" class=\"dataframe\">\n",
       "  <thead>\n",
       "    <tr style=\"text-align: right;\">\n",
       "      <th></th>\n",
       "      <th></th>\n",
       "      <th>relevant_view</th>\n",
       "    </tr>\n",
       "    <tr>\n",
       "      <th>relevant_view</th>\n",
       "      <th>converted</th>\n",
       "      <th></th>\n",
       "    </tr>\n",
       "  </thead>\n",
       "  <tbody>\n",
       "    <tr>\n",
       "      <th rowspan=\"2\" valign=\"top\">0</th>\n",
       "      <th>False</th>\n",
       "      <td>4974</td>\n",
       "    </tr>\n",
       "    <tr>\n",
       "      <th>True</th>\n",
       "      <td>23</td>\n",
       "    </tr>\n",
       "    <tr>\n",
       "      <th rowspan=\"2\" valign=\"top\">1</th>\n",
       "      <th>False</th>\n",
       "      <td>3977</td>\n",
       "    </tr>\n",
       "    <tr>\n",
       "      <th>True</th>\n",
       "      <td>394</td>\n",
       "    </tr>\n",
       "  </tbody>\n",
       "</table>\n",
       "</div>"
      ],
      "text/plain": [
       "                         relevant_view\n",
       "relevant_view converted               \n",
       "0             False               4974\n",
       "              True                  23\n",
       "1             False               3977\n",
       "              True                 394"
      ]
     },
     "execution_count": 41,
     "metadata": {},
     "output_type": "execute_result"
    }
   ],
   "source": [
    "g_analysis.groupby(['relevant_view', 'converted']).agg({'relevant_view': 'count'})"
   ]
  },
  {
   "cell_type": "markdown",
   "metadata": {},
   "source": [
    "5. If user interact with website more times, more likely to sign up\n",
    "\n",
    "**Answer: Prior to conversion, a significant amount of users interact with product, b-round, demo and manual pages.**\n",
    "\n",
    "**The 40% of user who convert see the demo page. However, in the population, only 15% user see the demo page. We probably need to think about expose our demo page to the users to increase the chance of converting.**"
   ]
  },
  {
   "cell_type": "code",
   "execution_count": 42,
   "metadata": {},
   "outputs": [],
   "source": [
    "g_conversion = pd.merge(\n",
    "    g_event,\n",
    "    pd.DataFrame(g_analysis[g_analysis.converted == 1].converted),\n",
    "    left_index = True,\n",
    "    right_index = True\n",
    ")\n",
    "\n",
    "def earlyThanSubmit(x):\n",
    "    x = x.reset_index()\n",
    "    benchmark = min(x[x.event == 'formSubmit'].time)\n",
    "    \n",
    "    filter_ = x.time < benchmark\n",
    "    return set([parseUrl(v) for v in x[filter_]['$url']])\n",
    "# filter the values that has smaller value than formSubmit time\n",
    "# parseUrl ['$url'] and create a set to store page view\n",
    "# generate a long list and count the list\n",
    "page_seen = [elem for ls in g_conversion.groupby('distinct_id').apply(earlyThanSubmit).values.squeeze() for elem in ls]"
   ]
  },
  {
   "cell_type": "code",
   "execution_count": 44,
   "metadata": {},
   "outputs": [
    {
     "data": {
      "text/plain": [
       "[(nan, 417),\n",
       " ('landing', 408),\n",
       " ('demo', 152),\n",
       " ('product', 74),\n",
       " ('b-round', 64),\n",
       " ('manual', 64),\n",
       " ('index', 44),\n",
       " ('courses', 32),\n",
       " ('about', 26),\n",
       " ('tools', 1)]"
      ]
     },
     "execution_count": 44,
     "metadata": {},
     "output_type": "execute_result"
    }
   ],
   "source": [
    "page_seen_sort"
   ]
  },
  {
   "cell_type": "code",
   "execution_count": 52,
   "metadata": {},
   "outputs": [
    {
     "data": {
      "image/png": "[encoded data removed]",
      "text/plain": [
       "<Figure size 432x288 with 1 Axes>"
      ]
     },
     "metadata": {},
     "output_type": "display_data"
    }
   ],
   "source": [
    "fig, ax = plt.subplots()\n",
    "page_seen_sort = Counter(page_seen).most_common()\n",
    "ax.barh([v[0] for v in page_seen_sort][1:], [v[1] / len(g_conversion.index.unique()) for v in page_seen_sort][1:])\n",
    "ax.spines['right'].set_color('none')\n",
    "ax.spines['top'].set_color('none')\n",
    "ax.set_title('Page Interation in Prior to Conversion')\n",
    "ax.set_ylabel('Page Type')\n",
    "ax.set_xlabel('Count');"
   ]
  },
  {
   "cell_type": "markdown",
   "metadata": {},
   "source": [
    "6. Other Findings.\n",
    "\n",
    "Its weird to see only 10% users who click the request demo button in demo page (given that 40% of them actually view demo page). If the logic is correct, we shoud see almost 40% of users click for request on the demo page (it does not make sense for users to look at demo then go back to index page for request). We should reformat the demo page layout and allow user to access request button on demo page more easily."
   ]
  },
  {
   "cell_type": "code",
   "execution_count": 53,
   "metadata": {},
   "outputs": [],
   "source": [
    "def clickSubmit(x):\n",
    "    x = x.reset_index()\n",
    "    btn_time = x[x.event == 'btnClick'].time\n",
    "    form_time = x[x.event == 'formSubmit'].time\n",
    "    focus_filt = btn_time - min(form_time) < 0\n",
    "    focus_ = btn_time - min(form_time)\n",
    "    focus_min = max(focus_[focus_filt])\n",
    "    focus_ = focus_.values\n",
    "    focus_idx = np.where(focus_ == focus_min)[0][0]\n",
    "    \n",
    "    return parseUrl(x[x.event == 'btnClick']['pageUrl'].values[focus_idx])\n",
    "click_btn = list(g_conversion.groupby('distinct_id').apply(clickSubmit))"
   ]
  },
  {
   "cell_type": "code",
   "execution_count": 54,
   "metadata": {},
   "outputs": [
    {
     "data": {
      "image/png": "[encoded data removed]",
      "text/plain": [
       "<Figure size 432x288 with 1 Axes>"
      ]
     },
     "metadata": {},
     "output_type": "display_data"
    }
   ],
   "source": [
    "fig, ax = plt.subplots()\n",
    "page_seen_sort = Counter(click_btn).most_common()\n",
    "ax.barh([v[0] for v in page_seen_sort], [v[1] / len(g_conversion.index.unique()) for v in page_seen_sort])\n",
    "ax.spines['right'].set_color('none')\n",
    "ax.spines['top'].set_color('none')\n",
    "ax.set_title('Request Btn Interation in Prior to formSubmit')\n",
    "ax.set_ylabel('Page Type')\n",
    "ax.set_xlabel('Count');"
   ]
  },
  {
   "cell_type": "code",
   "execution_count": 55,
   "metadata": {},
   "outputs": [],
   "source": [
    "# get browser binary \n",
    "g_analysis['browser_binary'] = g_analysis['$browser'].apply(lambda x: 1 if x == 'chrome' else 0)"
   ]
  },
  {
   "cell_type": "markdown",
   "metadata": {},
   "source": [
    "<hr>\n",
    "### Summary\n",
    "\n",
    "**INDEX = LANDING PAGE**\n",
    "* number of events excluding leave events: most of user around 0, 1\n",
    "* number of button clicked per user: most user around 0, 1 , 2, button click time\n",
    "* type of button being clicked by user: request (0.5) > product (0.32) > document (0.3) > demo (0.28) > b-round (0.22) > about > blog > video\n",
    "* time spend to click formsubmit button for each user: most people who convert spend < 4 mins\n",
    "* Funnel: 100% viewed page > 20% click request button > 5% click formSubmit\n",
    "* Most of users who are using PC or laptop tend to be more likely to sign up for demo.\n",
    "* Baidu appears to be the reference soruce that has the highest conversion rate\n",
    "* Most of users who converted at least explore the website before signing up for a demo request\n",
    "\n",
    "\n",
    "* Comparison:\n",
    "    * type of page viewed by **all user**: landing (0.85) > manual (0.23) > product (0.15) > demo (0.15) > b-round (0.13) > index (0.11) > courses (0.08)\n",
    "    * type of page viewed by **converted user**: landing (1.0) > demo (0.4) > product (0.18) > b-round (0.17) > mannual (0.17) > courese (0.1)\n",
    "* Comparison:\n",
    "    * type of page **user** click request button for sign up: landing (0.55) > demo (0.13) > index (0.04) > b-round (0.02)\n",
    "    * type of page **converted user** click request button for sign up: landing (0.80) > demo (0.10) > index (0.07) > product (0.02) > b-round (0.02)"
   ]
  },
  {
   "cell_type": "markdown",
   "metadata": {},
   "source": [
    "<hr>"
   ]
  },
  {
   "cell_type": "markdown",
   "metadata": {},
   "source": [
    "### 4.Model Building & Inference\n",
    "\n",
    "**4 Steps**\n",
    "1. Logitstic Regression model with limited amount of features (around 4)\n",
    "2. Logistic Regression model with more features (around 15)\n",
    "3. Logistic Regression model with bootstrap sampling technique to control class balance\n",
    "4. Random Forest model for better performance"
   ]
  },
  {
   "cell_type": "markdown",
   "metadata": {},
   "source": [
    "##### 1. Simple model with limited feature\n",
    "* **mobile_binary:**\n",
    "    * 0: laptop, PC\n",
    "    * 1: mobile\n",
    "* **refer_source:**\n",
    "    * 0: no refer source\n",
    "    * 1: baidu\n",
    "    * 2: other\n",
    "* **relevant_view:**\n",
    "    * 0: only look at the landing page\n",
    "    * 1: also explore pages other than landing page\n",
    "* **browser_binary:**\n",
    "    * 0: google\n",
    "    * 1: others"
   ]
  },
  {
   "cell_type": "code",
   "execution_count": 459,
   "metadata": {},
   "outputs": [],
   "source": [
    "# select four features to build logistic regression model for prediction\n",
    "dummies = pd.get_dummies(g_analysis['refer_source'])\n",
    "dummies = dummies.rename(columns={\n",
    "    col: 'refer_source_%s'%col for col in dummies.columns\n",
    "})\n",
    "dummies = dummies.iloc[:,1:].copy()\n",
    "\n",
    "g_model = g_analysis.loc[:,['mobile_binary', 'relevant_view', 'browser_binary']].copy()\n",
    "\n",
    "g_model = g_model.join(dummies)\n",
    "g_model = g_model.join(g_analysis['converted'])"
   ]
  },
  {
   "cell_type": "code",
   "execution_count": 145,
   "metadata": {},
   "outputs": [
    {
     "name": "stdout",
     "output_type": "stream",
     "text": [
      "Train AUC: 0.83\n",
      "Test AUC: 0.81\n"
     ]
    }
   ],
   "source": [
    "# shallow logistic regression\n",
    "from sklearn.model_selection import train_test_split\n",
    "from sklearn.linear_model import LogisticRegression\n",
    "from sklearn.metrics import roc_auc_score, roc_curve\n",
    "\n",
    "x = g_model.iloc[:,:-1].values\n",
    "\n",
    "y = g_model.iloc[:,-1].values\n",
    "\n",
    "xtrain, xtest, ytrain, ytest = train_test_split(x, y, test_size=.2, random_state=66)\n",
    "\n",
    "lg_base = LogisticRegression()\n",
    "lg_base.fit(xtrain, ytrain)\n",
    "\n",
    "p_ytrain = lg_base.predict_proba(xtrain)[:,1]\n",
    "p_ytest = lg_base.predict_proba(xtest)[:,1]\n",
    "\n",
    "print('Train AUC: %s'%(np.round(roc_auc_score(ytrain, p_ytrain),2)))\n",
    "print('Test AUC: %s'%(np.round(roc_auc_score(ytest, p_ytest),2)))"
   ]
  },
  {
   "cell_type": "markdown",
   "metadata": {},
   "source": [
    "**Performance Evaluation**\n",
    "\n",
    "From the Precision vs. Recall plot, we can see that the model is pretty bad because the AUC for this visualization is lower 0.2 and the overall precision is lower than 0.2 for every single recall."
   ]
  },
  {
   "cell_type": "code",
   "execution_count": 146,
   "metadata": {},
   "outputs": [
    {
     "data": {
      "image/png": "[encoded data removed]",
      "text/plain": [
       "<Figure size 432x288 with 1 Axes>"
      ]
     },
     "metadata": {},
     "output_type": "display_data"
    }
   ],
   "source": [
    "# I am using Precision vs. Recall curve in this case because of the imbalance nature of the data\n",
    "from sklearn.metrics import precision_recall_curve\n",
    "def pr_curve(xtrain, xtest, ytrain, ytest, model):\n",
    "    p_ytrain = model.predict_proba(xtrain)[:,1]\n",
    "    p_ytest = model.predict_proba(xtest)[:,1]\n",
    "    \n",
    "    precision_test, recall_test, _ = precision_recall_curve(ytest, p_ytest)\n",
    "    precision_train, recall_train, _ = precision_recall_curve(ytrain, p_ytrain)\n",
    "    \n",
    "    fig, ax = plt.subplots()\n",
    "    ax.step(recall_test, precision_test, color='b', alpha=0.5,\n",
    "             where='post', label='test')\n",
    "    ax.step(recall_train, precision_train, color='r', alpha=0.5,\n",
    "             where='post', label='train')\n",
    "    ax.legend(loc=1)\n",
    "    ax.spines['right'].set_color('none')\n",
    "    ax.spines['top'].set_color('none')\n",
    "    ax.set_title('Precision vs. Recall Curve', fontsize=14, y=1.08)\n",
    "    ax.set_xlabel('Recall', fontsize=14)\n",
    "    ax.set_ylabel('Precision', fontsize=14)\n",
    "    ax.set_xlim(0,1)\n",
    "    ax.set_ylim(0,1)\n",
    "    \n",
    "    \n",
    "pr_curve(xtrain, xtest, ytrain, ytest, lg_base)"
   ]
  },
  {
   "cell_type": "markdown",
   "metadata": {},
   "source": [
    "##### 2. Logistic Regression model with more features (around 15)\n",
    "\n",
    "* **Demographic**\n",
    "    * Geo-location\n",
    "\n",
    "\n",
    "* **User log behavior**\n",
    "    * viewed related\n",
    "        * number of events exclude leaving\n",
    "        * number of btnClick\n",
    "        * num_distinct_page_viewed (excluding landing page)\n",
    "        * if_demo_viewed (type of page has been viewed by user)\n",
    "        * num_consistent_btnclick_request\n",
    "    * time related\n",
    "        * time spend from the start to end\n",
    "        * num_sessions\n",
    "        * time spend on first sessions\n",
    "        * max_inactivity_time\n",
    "        * medium_inactivity_time"
   ]
  },
  {
   "cell_type": "code",
   "execution_count": 460,
   "metadata": {},
   "outputs": [
    {
     "name": "stdout",
     "output_type": "stream",
     "text": [
      "(46113, 7)\n",
      "(40419, 9)\n"
     ]
    }
   ],
   "source": [
    "# Data Preprocessing \n",
    "\n",
    "# find the min time formSubmit event\n",
    "def getMinFormSubmit(x):\n",
    "    if sum(x.event == 'formSubmit') > 0:\n",
    "        x_sub = x[x.event == 'formSubmit']\n",
    "        return min(x_sub.time)\n",
    "    else:\n",
    "        return max(x.time)\n",
    "\n",
    "# exclude the events later than the bench mark on user level\n",
    "def formatEventData(df):\n",
    "    df_temp = df[df.event != 'unknown event'].copy()\n",
    "    print(df_temp.shape)\n",
    "    benchmark = df_temp.groupby('distinct_id').apply(lambda x: getMinFormSubmit(x))\n",
    "    benchmark = pd.DataFrame(benchmark, columns=['benchmark'])\n",
    "    df_merge = df_temp.join(benchmark)\n",
    "    df_merge['flag'] = df_merge['time'] <= df_merge['benchmark']\n",
    "    df_merge = df_merge[df_merge.flag == True]\n",
    "    print(df_merge.shape)\n",
    "    return df_merge\n",
    "\n",
    "def findEvents(x):\n",
    "    x = x.event\n",
    "    x = x[~x.isnull()]\n",
    "    x_ = list(map(lambda x: False if re.search(r'leave$', x) else True, list(x)))\n",
    "    return sum(x_)\n",
    "\n",
    "g_eventT = formatEventData(g_event)"
   ]
  },
  {
   "cell_type": "markdown",
   "metadata": {},
   "source": [
    "**Feature Engineering Step By Step**"
   ]
  },
  {
   "cell_type": "markdown",
   "metadata": {},
   "source": [
    "1. number of events exclude leaving"
   ]
  },
  {
   "cell_type": "code",
   "execution_count": 461,
   "metadata": {},
   "outputs": [],
   "source": [
    "g_model['num_events'] = g_eventT.groupby('distinct_id').apply(findEvents)"
   ]
  },
  {
   "cell_type": "markdown",
   "metadata": {},
   "source": [
    "2. num of btnClick"
   ]
  },
  {
   "cell_type": "code",
   "execution_count": 462,
   "metadata": {},
   "outputs": [],
   "source": [
    "def findBtnClick(x, getLength=True):\n",
    "    # print(x)\n",
    "    x = x.reset_index()\n",
    "    x = x[x.event == 'btnClick']\n",
    "    if getLength:\n",
    "        return len(x.name.values)\n",
    "    else:\n",
    "        return len(list(set(x.name.values)))"
   ]
  },
  {
   "cell_type": "code",
   "execution_count": 463,
   "metadata": {},
   "outputs": [],
   "source": [
    "g_model['num_btnclick'] = g_eventT.groupby('distinct_id').apply(findBtnClick)\n",
    "g_model['num_btnclick_unique'] = g_eventT.groupby('distinct_id').apply(lambda x: findBtnClick(x, getLength=False))"
   ]
  },
  {
   "cell_type": "markdown",
   "metadata": {},
   "source": [
    "3. distinct page viewed excluding landing and index page"
   ]
  },
  {
   "cell_type": "code",
   "execution_count": 464,
   "metadata": {},
   "outputs": [],
   "source": [
    "g_eventT['url_parsed'] = g_eventT['$url'].apply(parseUrl)\n",
    "\n",
    "def findDistinctPageView(x):\n",
    "    x = x[~x.url_parsed.isnull()]\n",
    "    x_list = list(filter(lambda x: x not in ['landing', 'index'], x.url_parsed.values))\n",
    "    return len(set(x_list))\n",
    "    print(list(filter(lambda x: x not in ['landing', 'index'], x.url_parsed.values)))\n",
    "\n",
    "g_model['num_pageview_unique'] = g_eventT.groupby('distinct_id').apply(findDistinctPageView)"
   ]
  },
  {
   "cell_type": "markdown",
   "metadata": {},
   "source": [
    "4. if_demo_viewed (type of page has been viewed by user)"
   ]
  },
  {
   "cell_type": "code",
   "execution_count": 465,
   "metadata": {},
   "outputs": [],
   "source": [
    "g_model['view_demo'] = g_eventT.groupby('distinct_id').apply(lambda x: 1 if sum(x.url_parsed == 'demo') > 0 else 0)"
   ]
  },
  {
   "cell_type": "markdown",
   "metadata": {},
   "source": [
    "5. Time Spend from Begin to End"
   ]
  },
  {
   "cell_type": "code",
   "execution_count": 466,
   "metadata": {},
   "outputs": [],
   "source": [
    "g_model['life_time'] = g_eventT.groupby('distinct_id').apply(lambda x: max(x.time) - min(x.time))"
   ]
  },
  {
   "cell_type": "markdown",
   "metadata": {},
   "source": [
    "6. number of sessions for each user + time spend on first session"
   ]
  },
  {
   "cell_type": "code",
   "execution_count": 467,
   "metadata": {},
   "outputs": [],
   "source": [
    "# get the time difference between each steps\n",
    "def getTimeDifferenceBetweenStep(x, interval=5):\n",
    "    x_a = x.time.values[:-1]\n",
    "    x_b = x.time.values[1:]\n",
    "\n",
    "    x_diff = [b - a for a, b in zip(x_a, x_b)]\n",
    "    \n",
    "    session_idx = np.where(np.array(x_diff) >= (interval * 60))[0]\n",
    "    # print(x_diff)\n",
    "\n",
    "    if len(session_idx) > 0:\n",
    "        session1 = sum(x_diff[:session_idx[0]])\n",
    "    else:\n",
    "        session1 = sum(x_diff)\n",
    "        max_ = 0\n",
    "        median_ = 0\n",
    "    if len(x_diff) > 0:\n",
    "        max_ = max(x_diff)\n",
    "        median_ = np.median(np.array(x_diff))\n",
    "    else: \n",
    "        max_ = 0\n",
    "        median_ = 0\n",
    "    \n",
    "    return pd.Series([session1, len(session_idx) + 1, max_, median_], index=[\n",
    "        'first_session_time', 'num_session', 'max_inactivity_time', 'median_inactivity_time'\n",
    "    ])"
   ]
  },
  {
   "cell_type": "code",
   "execution_count": 468,
   "metadata": {},
   "outputs": [],
   "source": [
    "g_modelT = g_model.join(g_eventT.groupby('distinct_id').apply(getTimeDifferenceBetweenStep))"
   ]
  },
  {
   "cell_type": "markdown",
   "metadata": {},
   "source": [
    "6. difference between distinct num of btn click and num of btn click"
   ]
  },
  {
   "cell_type": "code",
   "execution_count": 469,
   "metadata": {},
   "outputs": [],
   "source": [
    "g_modelT['btn_diff'] = g_modelT['num_btnclick'] - g_modelT['num_btnclick_unique'] "
   ]
  },
  {
   "cell_type": "markdown",
   "metadata": {},
   "source": [
    "**Training Logistic Regression**"
   ]
  },
  {
   "cell_type": "code",
   "execution_count": 470,
   "metadata": {},
   "outputs": [],
   "source": [
    "x = g_modelT.loc[:,list(filter(lambda x: x != 'converted', g_modelT.columns))].values\n",
    "y = g_modelT.loc[:,'converted'].values"
   ]
  },
  {
   "cell_type": "code",
   "execution_count": 158,
   "metadata": {},
   "outputs": [
    {
     "name": "stdout",
     "output_type": "stream",
     "text": [
      "Train AUC: 0.97\n",
      "Test AUC: 0.95\n"
     ]
    }
   ],
   "source": [
    "xtrain, xtest, ytrain, ytest = train_test_split(x, y, test_size=.2, random_state=66)\n",
    "\n",
    "lg_base = LogisticRegression()\n",
    "lg_base.fit(xtrain, ytrain)\n",
    "\n",
    "p_ytrain = lg_base.predict_proba(xtrain)[:,1]\n",
    "p_ytest = lg_base.predict_proba(xtest)[:,1]\n",
    "\n",
    "print('Train AUC: %s'%(np.round(roc_auc_score(ytrain, p_ytrain),2)))\n",
    "print('Test AUC: %s'%(np.round(roc_auc_score(ytest, p_ytest),2)))"
   ]
  },
  {
   "cell_type": "markdown",
   "metadata": {},
   "source": [
    "**Performance Evaluation**\n",
    "\n",
    "We see considerable amount of improvement over the previous model. The AUC of this precision recall curve is greater than 0.5. However, there are still some issues. The trend we discovered in this precision vs. recall plot is not ideal. Ideally, we should have very high precision when we have low recall rate and we should see the precision decrease as the recall rate increase. This graph shows that our model performance is not very stable. It commited a lot False Positives when the recall rate is relatively low."
   ]
  },
  {
   "cell_type": "code",
   "execution_count": 159,
   "metadata": {},
   "outputs": [
    {
     "data": {
      "image/png": "[encoded data removed]",
      "text/plain": [
       "<Figure size 432x288 with 1 Axes>"
      ]
     },
     "metadata": {},
     "output_type": "display_data"
    }
   ],
   "source": [
    "pr_curve(xtrain, xtest, ytrain, ytest, lg_base)"
   ]
  },
  {
   "cell_type": "markdown",
   "metadata": {},
   "source": [
    "##### 3. Logistic Regression model with bootstraps for imbalance dataset (around 15)"
   ]
  },
  {
   "cell_type": "code",
   "execution_count": 160,
   "metadata": {},
   "outputs": [
    {
     "data": {
      "text/plain": [
       "0    7154\n",
       "1    7140\n",
       "dtype: int64"
      ]
     },
     "execution_count": 160,
     "metadata": {},
     "output_type": "execute_result"
    }
   ],
   "source": [
    "from sklearn.utils import resample\n",
    "\n",
    "xtrain, xtest, ytrain, ytest = train_test_split(x, y, test_size=.2, random_state=66)\n",
    "n_sample = int(sum(ytrain == 0) / sum(ytrain == 1)) * sum(ytrain == 1) - sum(ytrain == 1)\n",
    "x_add = resample(xtrain[np.where(ytrain == 1)[0],:], n_samples=n_sample)\n",
    "\n",
    "# add to training set\n",
    "xtrain_add = np.vstack([xtrain, x_add])\n",
    "ytrain_add = np.vstack([ytrain.reshape(-1,1), np.ones(n_sample, dtype=int).reshape(-1,1)])\n",
    "ytrain_add = ytrain_add.ravel()\n",
    "\n",
    "pd.Series(ytrain_add).value_counts()"
   ]
  },
  {
   "cell_type": "code",
   "execution_count": 161,
   "metadata": {},
   "outputs": [
    {
     "name": "stdout",
     "output_type": "stream",
     "text": [
      "Train AUC: 0.98\n",
      "Test AUC: 0.96\n"
     ]
    }
   ],
   "source": [
    "lg_base = LogisticRegression()\n",
    "lg_base.fit(xtrain_add, ytrain_add)\n",
    "\n",
    "p_ytrain = lg_base.predict_proba(xtrain_add)[:,1]\n",
    "p_ytest = lg_base.predict_proba(xtest)[:,1]\n",
    "\n",
    "print('Train AUC: %s'%(np.round(roc_auc_score(ytrain_add, p_ytrain),2)))\n",
    "print('Test AUC: %s'%(np.round(roc_auc_score(ytest, p_ytest),2)))"
   ]
  },
  {
   "cell_type": "markdown",
   "metadata": {},
   "source": [
    "**Performance Evaluation**\n",
    "\n",
    "Bootstrap sampling does not actually help the model to achieve better performance in this case. We still see the same curve for testing set."
   ]
  },
  {
   "cell_type": "code",
   "execution_count": 162,
   "metadata": {},
   "outputs": [
    {
     "data": {
      "image/png": "[encoded data removed]",
      "text/plain": [
       "<Figure size 432x288 with 1 Axes>"
      ]
     },
     "metadata": {},
     "output_type": "display_data"
    }
   ],
   "source": [
    "pr_curve(xtrain_add, xtest, ytrain_add, ytest, lg_base)"
   ]
  },
  {
   "cell_type": "markdown",
   "metadata": {},
   "source": [
    "##### 4. Random Forest (around 15)"
   ]
  },
  {
   "cell_type": "code",
   "execution_count": 238,
   "metadata": {},
   "outputs": [
    {
     "name": "stdout",
     "output_type": "stream",
     "text": [
      "Train AUC: 1.0\n",
      "Test AUC: 0.99\n"
     ]
    }
   ],
   "source": [
    "from sklearn.ensemble import RandomForestClassifier\n",
    "rf = RandomForestClassifier(max_depth=10, min_samples_leaf=10, n_estimators=50)\n",
    "rf.fit(xtrain, ytrain)\n",
    "\n",
    "p_ytrain = rf.predict_proba(xtrain_add)[:,1]\n",
    "p_ytest = rf.predict_proba(xtest)[:,1]\n",
    "\n",
    "print('Train AUC: %s'%(np.round(roc_auc_score(ytrain_add, p_ytrain),2)))\n",
    "print('Test AUC: %s'%(np.round(roc_auc_score(ytest, p_ytest),2)))"
   ]
  },
  {
   "cell_type": "markdown",
   "metadata": {},
   "source": [
    "**Performance Evaluation**\n",
    "\n",
    "We noticed that random forest are performaning a lot better compare to logistic regression. And in fact, over sample the positive class (user who churn) did help the model the precision."
   ]
  },
  {
   "cell_type": "code",
   "execution_count": 239,
   "metadata": {},
   "outputs": [
    {
     "name": "stdout",
     "output_type": "stream",
     "text": [
      "AUC for Precision vs. Recall: 0.9040\n"
     ]
    },
    {
     "data": {
      "image/png": "[encoded data removed]",
      "text/plain": [
       "<Figure size 432x288 with 1 Axes>"
      ]
     },
     "metadata": {},
     "output_type": "display_data"
    }
   ],
   "source": [
    "# without bootstrapping\n",
    "pr_curve(xtrain, xtest, ytrain, ytest, rf)\n",
    "print('AUC for Precision vs. Recall: %.4f'%pr_auc(ytest, rf.predict_proba(xtest)[:,1]))"
   ]
  },
  {
   "cell_type": "code",
   "execution_count": 237,
   "metadata": {
    "scrolled": true
   },
   "outputs": [
    {
     "name": "stdout",
     "output_type": "stream",
     "text": [
      "AUC for Precision vs. Recall: 0.8797\n"
     ]
    },
    {
     "data": {
      "image/png": "[encoded data removed]",
      "text/plain": [
       "<Figure size 432x288 with 1 Axes>"
      ]
     },
     "metadata": {},
     "output_type": "display_data"
    }
   ],
   "source": [
    "# with bootstrapping\n",
    "pr_curve(xtrain, xtest, ytrain, ytest, rf)\n",
    "print('AUC for Precision vs. Recall: %.4f'%pr_auc(ytest, rf.predict_proba(xtest)[:,1]))"
   ]
  },
  {
   "cell_type": "code",
   "execution_count": 223,
   "metadata": {},
   "outputs": [],
   "source": [
    "def pr_auc(ytrue, ypred):\n",
    "    p, r, t = precision_recall_curve(ytrue, ypred)\n",
    "    # print(p.shape, r.shape)\n",
    "    p_unique = []\n",
    "    r_unique = []\n",
    "    for precision, recall in zip(p, r):\n",
    "        if recall in r_unique:\n",
    "            if precision >p_unique[-1]:\n",
    "                p_unique[-1] = precision\n",
    "        else:\n",
    "            p_unique.append(precision)\n",
    "            r_unique.append(recall)\n",
    "    \n",
    "    r_arr = np.array(r_unique)\n",
    "    \n",
    "    r_calc = r_arr[:-1] - r_arr[1:]\n",
    "    p_calc = np.array(p_unique)[:-1]\n",
    "    \n",
    "    # print(p_arr[1:].shape, p_arr[:-1].shape, r_calc.shape)\n",
    "    result = r_calc * p_calc\n",
    "    \n",
    "    return sum(result)"
   ]
  },
  {
   "cell_type": "code",
   "execution_count": 241,
   "metadata": {},
   "outputs": [],
   "source": [
    "from sklearn.metrics import precision_score\n",
    "from sklearn.metrics import make_scorer\n",
    "from sklearn.model_selection import GridSearchCV"
   ]
  },
  {
   "cell_type": "code",
   "execution_count": 291,
   "metadata": {},
   "outputs": [],
   "source": [
    "# Choose the type of classifier. \n",
    "clf = RandomForestClassifier()\n",
    "\n",
    "# Choose some parameter combinations to try\n",
    "param_grid = {'n_estimators': [50, 100, 150],  # 50, 100\n",
    "              'max_depth': [10, 15, 20],  # 5, 15\n",
    "              'min_samples_leaf': [5, 10, 20], # 5, 20\n",
    "              'class_weight': [{0:1, 1: 1}, {0:1, 1: 5}, {0:1, 1: 10}]\n",
    "             }\n",
    "\n",
    "pr_scorer = make_scorer(pr_auc)"
   ]
  },
  {
   "cell_type": "code",
   "execution_count": null,
   "metadata": {},
   "outputs": [],
   "source": [
    "grid_clf = GridSearchCV(clf, param_grid, cv=5, scoring=pr_scorer)\n",
    "grid_clf = grid_clf.fit(xtrain, ytrain)"
   ]
  },
  {
   "cell_type": "code",
   "execution_count": 295,
   "metadata": {},
   "outputs": [
    {
     "data": {
      "text/plain": [
       "{'class_weight': {0: 1, 1: 5},\n",
       " 'max_depth': 20,\n",
       " 'min_samples_leaf': 5,\n",
       " 'n_estimators': 50}"
      ]
     },
     "execution_count": 295,
     "metadata": {},
     "output_type": "execute_result"
    }
   ],
   "source": [
    "grid_clf.best_params_"
   ]
  },
  {
   "cell_type": "code",
   "execution_count": 294,
   "metadata": {},
   "outputs": [
    {
     "name": "stdout",
     "output_type": "stream",
     "text": [
      "AUC for Precision vs. Recall: 0.9191\n"
     ]
    },
    {
     "data": {
      "image/png": "[encoded data removed]",
      "text/plain": [
       "<Figure size 432x288 with 1 Axes>"
      ]
     },
     "metadata": {},
     "output_type": "display_data"
    }
   ],
   "source": [
    "# with Gridsearch\n",
    "pr_curve(xtrain, xtest, ytrain, ytest, grid_clf)\n",
    "print('AUC for Precision vs. Recall: %.4f'%pr_auc(ytest, grid_clf.predict_proba(xtest)[:,1]))"
   ]
  },
  {
   "cell_type": "code",
   "execution_count": 472,
   "metadata": {},
   "outputs": [
    {
     "data": {
      "text/plain": [
       "RandomForestClassifier(bootstrap=True, class_weight={0: 1, 1: 5},\n",
       "            criterion='gini', max_depth=20, max_features='auto',\n",
       "            max_leaf_nodes=None, min_impurity_decrease=0.0,\n",
       "            min_impurity_split=None, min_samples_leaf=5,\n",
       "            min_samples_split=2, min_weight_fraction_leaf=0.0,\n",
       "            n_estimators=50, n_jobs=1, oob_score=False, random_state=42,\n",
       "            verbose=0, warm_start=False)"
      ]
     },
     "execution_count": 472,
     "metadata": {},
     "output_type": "execute_result"
    }
   ],
   "source": [
    "# train the best model for prediction\n",
    "best_rf = RandomForestClassifier(random_state=42)\n",
    "\n",
    "best_rf.set_params(**grid_clf.best_params_)\n",
    "\n",
    "best_rf.fit(x, y)"
   ]
  },
  {
   "cell_type": "code",
   "execution_count": 473,
   "metadata": {},
   "outputs": [
    {
     "data": {
      "image/png": "[encoded data removed]",
      "text/plain": [
       "<Figure size 576x432 with 1 Axes>"
      ]
     },
     "metadata": {},
     "output_type": "display_data"
    }
   ],
   "source": [
    "# visualization to understand the feature importance\n",
    "def plotFeatureImportance(model, col_name):\n",
    "    fig, ax = plt.subplots(figsize=(8,6))\n",
    "    feature_importance = model.feature_importances_\n",
    "    \n",
    "    sort_idx = np.argsort(np.array(feature_importance))\n",
    "\n",
    "    ax.barh(col_name[sort_idx], feature_importance[sort_idx])\n",
    "    ax.spines['top'].set_color('none')\n",
    "    ax.spines['right'].set_color('none')\n",
    "    ax.set_title('Random Forest Coefficient Feature Importance')\n",
    "    ax.set_ylabel('Variable Name')\n",
    "    ax.set_ylabel('Importance')\n",
    "plotFeatureImportance(best_rf, g_modelT.drop(columns='converted').columns)"
   ]
  },
  {
   "cell_type": "markdown",
   "metadata": {},
   "source": [
    "People who converted generally spending around 6 - 20 seconds to browsing the current page. People who did not convert either spend too less amount of time (1 - 5 seconds per page) or too much time ( > 60 seconds) on a page. \n",
    "\n",
    "Therefore, I suggest the company need to focus on adjusting the content of the page to make the content for each page interesting enough to allow user spend several seconds to glance through. On the other hand, the company need to make the content easy to read (reasonable amount of words and images)."
   ]
  },
  {
   "cell_type": "code",
   "execution_count": 407,
   "metadata": {},
   "outputs": [
    {
     "data": {
      "text/plain": [
       "Text(0,0.5,'Proportion')"
      ]
     },
     "execution_count": 407,
     "metadata": {},
     "output_type": "execute_result"
    },
    {
     "data": {
      "image/png": "[encoded data removed]",
      "text/plain": [
       "<Figure size 576x432 with 1 Axes>"
      ]
     },
     "metadata": {},
     "output_type": "display_data"
    }
   ],
   "source": [
    "fig, ax = plt.subplots(1,1, figsize=(8,6))\n",
    "plot_histgram(np.log2(g_modelT[(g_modelT.converted == 0) & \\\n",
    "                    (g_modelT.num_events > 5)].median_inactivity_time.values + 1), ax, alpha=.7, label='Churn', bins=20,\n",
    "                     density=True)\n",
    "plot_histgram(np.log2(g_modelT[(g_modelT.converted == 1) & \\\n",
    "                    (g_modelT.num_events > 5)].median_inactivity_time.values + 1), ax, alpha=.7, label='Converted', bins=20,\n",
    "                     density=True)\n",
    "ax.set_title('Log Median Inactivity Time', fontsize=14)\n",
    "ax.legend(loc=1)\n",
    "ax.set_xlabel('Log Median Time', fontsize=14)\n",
    "ax.set_ylabel('Proportion', fontsize=14)"
   ]
  },
  {
   "cell_type": "markdown",
   "metadata": {},
   "source": [
    "### 5. More Feature Engineering"
   ]
  },
  {
   "cell_type": "code",
   "execution_count": null,
   "metadata": {},
   "outputs": [],
   "source": [
    "# a lot variables correlate with each other, not really good for inference\n",
    "# need to do further feature engineering"
   ]
  },
  {
   "cell_type": "code",
   "execution_count": null,
   "metadata": {},
   "outputs": [],
   "source": [
    "# drop num_pageview_unique\n",
    "# create effective_page_view"
   ]
  },
  {
   "cell_type": "code",
   "execution_count": 474,
   "metadata": {},
   "outputs": [],
   "source": [
    "def findEffectivePageView(x):\n",
    "    x = x[~x.url_parsed.isnull()]\n",
    "    x_list = list(filter(lambda x: x not in ['landing', 'index'], x.url_parsed.values))\n",
    "    distinct_view = len(set(x_list))\n",
    "    total_view = len(x_list) + 0.0001\n",
    "    return distinct_view / total_view\n",
    "\n",
    "g_modelT['effective_page_view'] = g_eventT.groupby('distinct_id').apply(findEffectivePageView)"
   ]
  },
  {
   "cell_type": "code",
   "execution_count": 475,
   "metadata": {},
   "outputs": [],
   "source": [
    "# drop num_btnclick + btn_diff\n",
    "# create effective_btnclick"
   ]
  },
  {
   "cell_type": "code",
   "execution_count": 476,
   "metadata": {},
   "outputs": [],
   "source": [
    "g_modelT['effective_btnclick'] = g_modelT.num_btnclick_unique / (g_modelT.num_btnclick + 0.0001)"
   ]
  },
  {
   "cell_type": "code",
   "execution_count": 477,
   "metadata": {},
   "outputs": [],
   "source": [
    "# num_events is biased measurement because user need to take at least three events to click the formSubmit.\n",
    "# And interestingly, there appears to be no difference between churn user and converted user in terms of their event activity\n",
    "# Lets create a binary class for model to understand the situation better\n",
    "# drop num_events\n",
    "g_modelT['event_greater_than_3'] = g_modelT['num_events'].apply(lambda x: 1 if x > 3 else 0)"
   ]
  },
  {
   "cell_type": "code",
   "execution_count": 425,
   "metadata": {},
   "outputs": [
    {
     "data": {
      "text/html": [
       "<div>\n",
       "<style scoped>\n",
       "    .dataframe tbody tr th:only-of-type {\n",
       "        vertical-align: middle;\n",
       "    }\n",
       "\n",
       "    .dataframe tbody tr th {\n",
       "        vertical-align: top;\n",
       "    }\n",
       "\n",
       "    .dataframe thead th {\n",
       "        text-align: right;\n",
       "    }\n",
       "</style>\n",
       "<table border=\"1\" class=\"dataframe\">\n",
       "  <thead>\n",
       "    <tr style=\"text-align: right;\">\n",
       "      <th></th>\n",
       "      <th>num_events</th>\n",
       "    </tr>\n",
       "    <tr>\n",
       "      <th>converted</th>\n",
       "      <th></th>\n",
       "    </tr>\n",
       "  </thead>\n",
       "  <tbody>\n",
       "    <tr>\n",
       "      <th>False</th>\n",
       "      <td>7079</td>\n",
       "    </tr>\n",
       "    <tr>\n",
       "      <th>True</th>\n",
       "      <td>14</td>\n",
       "    </tr>\n",
       "  </tbody>\n",
       "</table>\n",
       "</div>"
      ],
      "text/plain": [
       "           num_events\n",
       "converted            \n",
       "False            7079\n",
       "True               14"
      ]
     },
     "execution_count": 425,
     "metadata": {},
     "output_type": "execute_result"
    }
   ],
   "source": [
    "g_modelT[g_modelT.num_events <= 3].groupby(['converted']).agg({'num_events': 'count'})"
   ]
  },
  {
   "cell_type": "code",
   "execution_count": 427,
   "metadata": {},
   "outputs": [
    {
     "data": {
      "text/html": [
       "<div>\n",
       "<style scoped>\n",
       "    .dataframe tbody tr th:only-of-type {\n",
       "        vertical-align: middle;\n",
       "    }\n",
       "\n",
       "    .dataframe tbody tr th {\n",
       "        vertical-align: top;\n",
       "    }\n",
       "\n",
       "    .dataframe thead th {\n",
       "        text-align: right;\n",
       "    }\n",
       "</style>\n",
       "<table border=\"1\" class=\"dataframe\">\n",
       "  <thead>\n",
       "    <tr style=\"text-align: right;\">\n",
       "      <th></th>\n",
       "      <th>num_events</th>\n",
       "    </tr>\n",
       "    <tr>\n",
       "      <th>converted</th>\n",
       "      <th></th>\n",
       "    </tr>\n",
       "  </thead>\n",
       "  <tbody>\n",
       "    <tr>\n",
       "      <th>False</th>\n",
       "      <td>7</td>\n",
       "    </tr>\n",
       "    <tr>\n",
       "      <th>True</th>\n",
       "      <td>8</td>\n",
       "    </tr>\n",
       "  </tbody>\n",
       "</table>\n",
       "</div>"
      ],
      "text/plain": [
       "           num_events\n",
       "converted            \n",
       "False               7\n",
       "True                8"
      ]
     },
     "execution_count": 427,
     "metadata": {},
     "output_type": "execute_result"
    }
   ],
   "source": [
    "g_modelT[g_modelT.num_events > 3].groupby(['converted']).agg({'num_events': 'median'})"
   ]
  },
  {
   "cell_type": "markdown",
   "metadata": {},
   "source": [
    "**Since we are using model to draw insight from the data, I think for now, we need to exclude every single user whose num_events is less than 3 for a more reliable estimation. Otherwise, the model will prune to produce biased results.**"
   ]
  },
  {
   "cell_type": "code",
   "execution_count": 511,
   "metadata": {},
   "outputs": [
    {
     "name": "stdout",
     "output_type": "stream",
     "text": [
      "(2275, 16)\n"
     ]
    }
   ],
   "source": [
    "# get rid of samples that are not helpful for the model\n",
    "g_model_refine = g_modelT[g_modelT.num_events > 3]\n",
    "\n",
    "# drop unwanted columns \n",
    "g_model_refine = g_model_refine.drop(columns=['effective_page_view', 'btn_diff', 'num_events', 'max_inactivity_time'])\n",
    "\n",
    "print(g_model_refine.shape)"
   ]
  },
  {
   "cell_type": "code",
   "execution_count": 518,
   "metadata": {},
   "outputs": [
    {
     "data": {
      "text/plain": [
       "False    1872\n",
       "True      403\n",
       "Name: converted, dtype: int64"
      ]
     },
     "execution_count": 518,
     "metadata": {},
     "output_type": "execute_result"
    }
   ],
   "source": [
    "g_model_refine.converted.value_counts()"
   ]
  },
  {
   "cell_type": "code",
   "execution_count": 519,
   "metadata": {},
   "outputs": [],
   "source": [
    "# build model again to see how it performed\n",
    "x = g_model_refine.loc[:,g_model_refine.drop(columns='converted').columns].values\n",
    "y = g_model_refine.loc[:,'converted'].values\n",
    "xtrain, xtest, ytrain, ytest = train_test_split(x, y, test_size=.2, random_state=66)"
   ]
  },
  {
   "cell_type": "code",
   "execution_count": 521,
   "metadata": {},
   "outputs": [],
   "source": [
    "# Choose the type of classifier. \n",
    "clf = RandomForestClassifier(random_state=42)\n",
    "\n",
    "# Choose some parameter combinations to try\n",
    "param_grid = {'n_estimators': [50, 100, 150],  # 50, 100\n",
    "              'max_depth': [10, 15, 20],  # 5, 15\n",
    "              'min_samples_leaf': [5, 10, 20], # 5, 20\n",
    "              'class_weight': [{0:1, 1: 1}, {0:1, 1: 2}, {0:1, 1: 4}]\n",
    "             }\n",
    "\n",
    "pr_scorer = make_scorer(pr_auc)"
   ]
  },
  {
   "cell_type": "code",
   "execution_count": 522,
   "metadata": {},
   "outputs": [],
   "source": [
    "grid_clf = GridSearchCV(clf, param_grid, cv=5, scoring=pr_scorer)\n",
    "grid_clf = grid_clf.fit(xtrain, ytrain)"
   ]
  },
  {
   "cell_type": "code",
   "execution_count": 523,
   "metadata": {},
   "outputs": [
    {
     "name": "stdout",
     "output_type": "stream",
     "text": [
      "AUC for Precision vs. Recall: 0.7827\n"
     ]
    },
    {
     "data": {
      "image/png": "[encoded data removed]",
      "text/plain": [
       "<Figure size 432x288 with 1 Axes>"
      ]
     },
     "metadata": {},
     "output_type": "display_data"
    }
   ],
   "source": [
    "# with Gridsearch\n",
    "pr_curve(xtrain, xtest, ytrain, ytest, grid_clf)\n",
    "print('AUC for Precision vs. Recall: %.4f'%pr_auc(ytest, grid_clf.predict_proba(xtest)[:,1]))\n",
    "# try to build logistic regression model this time\n",
    "# any other extra insights?"
   ]
  },
  {
   "cell_type": "code",
   "execution_count": 525,
   "metadata": {},
   "outputs": [
    {
     "data": {
      "text/plain": [
       "RandomForestClassifier(bootstrap=True, class_weight={0: 1, 1: 4},\n",
       "            criterion='gini', max_depth=10, max_features='auto',\n",
       "            max_leaf_nodes=None, min_impurity_decrease=0.0,\n",
       "            min_impurity_split=None, min_samples_leaf=5,\n",
       "            min_samples_split=2, min_weight_fraction_leaf=0.0,\n",
       "            n_estimators=100, n_jobs=1, oob_score=False, random_state=42,\n",
       "            verbose=0, warm_start=False)"
      ]
     },
     "execution_count": 525,
     "metadata": {},
     "output_type": "execute_result"
    }
   ],
   "source": [
    "# train the best model for prediction\n",
    "best_rf = RandomForestClassifier(random_state=42)\n",
    "\n",
    "best_rf.set_params(**grid_clf.best_params_)\n",
    "\n",
    "best_rf.fit(x, y)"
   ]
  },
  {
   "cell_type": "code",
   "execution_count": 526,
   "metadata": {},
   "outputs": [
    {
     "data": {
      "image/png": "[encoded data removed]",
      "text/plain": [
       "<Figure size 576x432 with 1 Axes>"
      ]
     },
     "metadata": {},
     "output_type": "display_data"
    }
   ],
   "source": [
    "plotFeatureImportance(best_rf, g_model_refine.drop(columns='converted').columns)"
   ]
  },
  {
   "cell_type": "code",
   "execution_count": 530,
   "metadata": {},
   "outputs": [
    {
     "data": {
      "text/plain": [
       "Text(0.5,1,'Unique Page View Distribution excluding landing page')"
      ]
     },
     "execution_count": 530,
     "metadata": {},
     "output_type": "execute_result"
    },
    {
     "data": {
      "image/png": "[encoded data removed]",
      "text/plain": [
       "<Figure size 576x432 with 1 Axes>"
      ]
     },
     "metadata": {},
     "output_type": "display_data"
    }
   ],
   "source": [
    "fig, ax = plt.subplots(1,1, figsize=(8,6))\n",
    "plot_histgram(g_model_refine[g_model_refine.converted == 0].num_pageview_unique, ax, alpha=.8, label='Churn')\n",
    "plot_histgram(g_model_refine[g_model_refine.converted == 1].num_pageview_unique, ax, alpha=.8, label='Converted')\n",
    "ax.legend(loc=1)\n",
    "ax.set_title('Unique Page View Distribution excluding landing page', fontsize=16)"
   ]
  },
  {
   "cell_type": "code",
   "execution_count": 532,
   "metadata": {},
   "outputs": [
    {
     "data": {
      "text/plain": [
       "Text(0,0.5,'Proportion')"
      ]
     },
     "execution_count": 532,
     "metadata": {},
     "output_type": "execute_result"
    },
    {
     "data": {
      "image/png": "[encoded data removed]",
      "text/plain": [
       "<Figure size 576x432 with 1 Axes>"
      ]
     },
     "metadata": {},
     "output_type": "display_data"
    }
   ],
   "source": [
    "fig, ax = plt.subplots(1,1, figsize=(8,6))\n",
    "plot_histgram(np.log2(g_model_refine[(g_model_refine.converted == 0)].life_time.values + 1), ax, alpha=.7, label='Churn', bins=20,\n",
    "                     density=True)\n",
    "plot_histgram(np.log2(g_model_refine[(g_model_refine.converted == 1)].life_time.values + 1), ax, alpha=.7, label='Converted', bins=20,\n",
    "                     density=True)\n",
    "ax.set_title('Log Median Life Time', fontsize=14)\n",
    "ax.legend(loc=1)\n",
    "ax.set_xlabel('Log Median Life Time', fontsize=14)\n",
    "ax.set_ylabel('Proportion', fontsize=14)"
   ]
  },
  {
   "cell_type": "code",
   "execution_count": 557,
   "metadata": {},
   "outputs": [
    {
     "data": {
      "text/plain": [
       "6.906890595608519"
      ]
     },
     "execution_count": 557,
     "metadata": {},
     "output_type": "execute_result"
    }
   ],
   "source": [
    "np.log2(120)"
   ]
  },
  {
   "cell_type": "code",
   "execution_count": null,
   "metadata": {},
   "outputs": [],
   "source": []
  },
  {
   "cell_type": "code",
   "execution_count": 560,
   "metadata": {},
   "outputs": [
    {
     "data": {
      "text/plain": [
       "Text(0.5,1,'Effective Buttom Click Distribution excluding landing page')"
      ]
     },
     "execution_count": 560,
     "metadata": {},
     "output_type": "execute_result"
    },
    {
     "data": {
      "image/png": "[encoded data removed]",
      "text/plain": [
       "<Figure size 576x432 with 1 Axes>"
      ]
     },
     "metadata": {},
     "output_type": "display_data"
    }
   ],
   "source": [
    "fig, ax = plt.subplots(1,1, figsize=(8,6))\n",
    "plot_histgram(g_model_refine[g_model_refine.converted == 0].effective_btnclick, ax, alpha=.8, label='Churn', bins=30)\n",
    "plot_histgram(g_model_refine[g_model_refine.converted == 1].effective_btnclick, ax, alpha=.8, label='Converted', bins=30)\n",
    "ax.legend(loc=1)\n",
    "ax.set_title('Effective Buttom Click Distribution excluding landing page', fontsize=16)"
   ]
  },
  {
   "cell_type": "markdown",
   "metadata": {},
   "source": [
    "## Findings & Recommendation"
   ]
  },
  {
   "cell_type": "markdown",
   "metadata": {},
   "source": [
    "**Findings:**\n",
    "1. Compare to user activity information, the Effect of Reference Source, Mobile, Browser is pretty minimal\n",
    "2. Most of users who converted spend reasonable time between pages 8 - 20 seconds per page\n",
    "3. People who viewed demo page are more likely to be converted\n",
    "4. Almost 50% people who converted, directly clicked the request button for demo request on the landing page without exploring other pages.\n",
    "5. The lifetime for most converted users is around 2 minutes.\n",
    "6. Around 100+ churn users has very low value in effective btn click feature.\n",
    "\n",
    "\n",
    "**Recommendations:**\n",
    "1. We may need to find a better way to do the marketing strategies. From the finding, **we did not see difference among marketing campaign in terms of conversion performance**. The likehood of conversion is highly depend on users' interaction with the website.\n",
    "2. Optimize the content of the web page. Control the reading time in **8 - 20 seconds** per page range.\n",
    "3. **Made the demo page button standout** in the landing page so that user are more likely to view the demo page because people who virewed the demo page are more likely to convert.\n",
    "4. 50% of converted users submit demo request directly from the landing page. This means that landing page is attractive enough for user to click the convert button. However, a considerable amount of users who did not request demo on the landing page. This might due to the fact that they need more information about the product. Therefore, we still need to **optimize other pages to provide additional information**.\n",
    "5. We need to made our **website easier to interact and faster to response**.\n",
    "6. low value in effective btn click feature indicates that these users are **experiencing response lantancy** from the website. So we need to do some adjsutment on the server sides to optimize user experience."
   ]
  }
 ],
 "metadata": {
  "kernelspec": {
   "display_name": "Python 3",
   "language": "python",
   "name": "python3"
  },
  "language_info": {
   "codemirror_mode": {
    "name": "ipython",
    "version": 3
   },
   "file_extension": ".py",
   "mimetype": "text/x-python",
   "name": "python",
   "nbconvert_exporter": "python",
   "pygments_lexer": "ipython3",
   "version": "3.6.5"
  }
 },
 "nbformat": 4,
 "nbformat_minor": 2
}
